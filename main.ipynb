{
  "cells": [
    {
      "cell_type": "markdown",
      "metadata": {
        "id": "9S6yceaP4C8v"
      },
      "source": [
        "# 1. Introdução\n",
        "\n",
        "O dataset escolhido para o trabalho foi encontrado no Kaggle e contém notícias do site folha uol. E se chama [\"News of the Brazilian Newspaper\"](https://www.kaggle.com/datasets/marlesson/news-of-the-site-folhauol), nesse conjunto de dados há 167.053 notícias com seus respectivos títulos e categorias.\n",
        "\n",
        "A partir desse conjunto de dados testarei diversos modelos de classificação para o texto, mostrarei os resultados obtidos e descorrerei sobre os omelhores."
      ]
    },
    {
      "cell_type": "markdown",
      "metadata": {
        "id": "mxbgcogu4C80"
      },
      "source": [
        "# 2. Desenvolvimento"
      ]
    },
    {
      "cell_type": "markdown",
      "metadata": {
        "id": "SyuJ8pnv4C80"
      },
      "source": [
        "## 2.1. Bibliotecas\n",
        "\n",
        "Bibliotecas utilizadas no projeto."
      ]
    },
    {
      "cell_type": "code",
      "execution_count": 1,
      "metadata": {
        "colab": {
          "base_uri": "https://localhost:8080/"
        },
        "id": "1zUaXEWSgfQI",
        "outputId": "94a264f4-ca0d-4ee8-87d3-4d85ecc68f6d"
      },
      "outputs": [
        {
          "name": "stdout",
          "output_type": "stream",
          "text": [
            "Requirement already satisfied: unidecode in c:\\users\\ivan\\miniconda3\\envs\\trab_elias\\lib\\site-packages (1.3.6)\n"
          ]
        }
      ],
      "source": [
        "!pip install unidecode"
      ]
    },
    {
      "cell_type": "code",
      "execution_count": 2,
      "metadata": {
        "id": "HpHGidmq4C81"
      },
      "outputs": [],
      "source": [
        "import re\n",
        "import time\n",
        "import nltk\n",
        "import spacy\n",
        "import numpy as np\n",
        "import pandas as pd\n",
        "import seaborn as sns\n",
        "import matplotlib.cm as cm\n",
        "import matplotlib.pyplot as plt\n",
        "from unidecode import unidecode\n",
        "from nltk.corpus import stopwords\n",
        "from xgboost import XGBClassifier\n",
        "from lightgbm import LGBMClassifier\n",
        "from sklearn.svm import SVC, LinearSVC\n",
        "from sklearn.naive_bayes import MultinomialNB\n",
        "from sklearn.linear_model import SGDClassifier\n",
        "from sklearn.tree import DecisionTreeClassifier\n",
        "from sklearn.neural_network import MLPClassifier\n",
        "from sklearn.neighbors import KNeighborsClassifier\n",
        "from sklearn.linear_model import LogisticRegression\n",
        "from sklearn.calibration import CalibratedClassifierCV\n",
        "from sklearn.feature_extraction.text import TfidfVectorizer\n",
        "from sklearn.model_selection import train_test_split, GridSearchCV\n",
        "from sklearn.ensemble import RandomForestClassifier, StackingClassifier\n",
        "from sklearn.metrics import ( make_scorer, accuracy_score, balanced_accuracy_score,\n",
        "                             classification_report, confusion_matrix, f1_score,\n",
        "                             matthews_corrcoef, roc_curve, auc)\n",
        "\n",
        "import warnings\n",
        "warnings.filterwarnings(\"ignore\")"
      ]
    },
    {
      "cell_type": "markdown",
      "metadata": {
        "id": "AYH6Srz14C82"
      },
      "source": [
        "## 2.2. Funções customizadas\n",
        "\n",
        "Frunções criadas para auxiliar no desenvolvimento do projeto."
      ]
    },
    {
      "cell_type": "code",
      "execution_count": 3,
      "metadata": {
        "id": "qj6zA9Hl4C83"
      },
      "outputs": [],
      "source": [
        "class color:\n",
        "    \"\"\"A class that provides ANSI escape codes for text color formatting.\n",
        "\n",
        "    Args:\n",
        "        PURPLE (str): ANSI escape code for purple text.\n",
        "        CYAN (str): ANSI escape code for cyan text.\n",
        "        DARKCYAN (str): ANSI escape code for dark cyan text.\n",
        "        BLUE (str): ANSI escape code for blue text.\n",
        "        GREEN (str): ANSI escape code for green text.\n",
        "        YELLOW (str): ANSI escape code for yellow text.\n",
        "        RED (str): ANSI escape code for red text.\n",
        "        BOLD (str): ANSI escape code for bold text.\n",
        "        UNDERLINE (str): ANSI escape code for underlined text.\n",
        "        END (str): ANSI escape code to reset text formatting.\n",
        "\n",
        "    Usage:\n",
        "        Use the attributes of this class to format text with different colors,\n",
        "        styles, and effects. For example:\n",
        "\n",
        "        print((color.BOLD) + 'Hello, world!' + color.END)\n",
        "        print((color.RED) + 'Error: Something went wrong.' + color.END)\n",
        "\n",
        "    \"\"\"\n",
        "    PURPLE = '\\033[95m'\n",
        "    CYAN = '\\033[96m'\n",
        "    DARKCYAN = '\\033[36m'\n",
        "    BLUE = '\\033[94m'\n",
        "    GREEN = '\\033[92m'\n",
        "    YELLOW = '\\033[93m'\n",
        "    RED = '\\033[91m'\n",
        "    BOLD = '\\033[1m'\n",
        "    UNDERLINE = '\\033[4m'\n",
        "    END = '\\033[0m'\n",
        "\n",
        "def remove_punctuation(text):\n",
        "    \"\"\"Remove punctuation and numbers from text\n",
        "\n",
        "    Args:\n",
        "        text (str): A string\n",
        "\n",
        "    Returns:\n",
        "        str: string without punctuation and numbers\n",
        "    \"\"\"\n",
        "    return re.sub(r'[^a-zA-Z\\s]', ' ', text)\n",
        "\n",
        "def remove_multiple_blank_spaces(text):\n",
        "    \"\"\"Remove multiple blank spaces from text\n",
        "\n",
        "    Args:\n",
        "        text (str): A string\n",
        "\n",
        "    Returns:\n",
        "        str: string with only one space between words\n",
        "    \"\"\"\n",
        "    return re.sub(r'\\s+', ' ', text)\n",
        "\n",
        "def hyper_tunning(model_name, model, param_grid, X_train, y_train, X_valid, y_valid):\n",
        "    \"\"\"\n",
        "    Perform hyperparameter tuning using GridSearchCV.\n",
        "\n",
        "    Args:\n",
        "        model_name (str): Name of the model.\n",
        "        model: The model object or estimator.\n",
        "        param_grid (dict): Dictionary of hyperparameters to search over.\n",
        "        X_train: Training data.\n",
        "        y_train: Target variable for training data.\n",
        "\n",
        "    Returns:\n",
        "        None\n",
        "\n",
        "    Prints:\n",
        "        Information about the hyperparameter tuning process, including the best parameters,\n",
        "        best score, validation MCC (Matthews Correlation Coefficient), and elapsed time.\n",
        "\n",
        "    \"\"\"\n",
        "    t_start = time.time()\n",
        "    scorer_mcc = make_scorer(matthews_corrcoef)\n",
        "\n",
        "    # Create the GridSearchCV object\n",
        "    grid_search = GridSearchCV(model, param_grid, cv=3, scoring=scorer_mcc, n_jobs=-1)\n",
        "\n",
        "    # Perform the grid search by fitting training data\n",
        "    grid_search.fit(X_train, y_train)\n",
        "    pred = grid_search.predict(X_valid)\n",
        "\n",
        "    best_estimator = grid_search.best_estimator_\n",
        "    valid_mcc = best_estimator.score(X_valid, y_valid)\n",
        "\n",
        "    f1 = f1_score(y_valid, pred, average='micro')\n",
        "    bacc = balanced_accuracy_score(y_valid, pred)\n",
        "    acc = grid_search.best_score_\n",
        "    \n",
        "    t_end = time.time()\n",
        "    print(f\"{color.BOLD}- {model_name}{color.END}\\nBest parameters: {grid_search.best_params_}\\nBest score: {acc:.4%}\\nValid MCC: {valid_mcc:.4%}\\nElapsed: {t_end-t_start:.4f} sec\\n\")\n",
        "    \n",
        "    return f1, bacc, acc, valid_mcc\n",
        "\n",
        "def style_score(val, quantile_val, invert=False):\n",
        "    \"\"\"\n",
        "    Apply styling to a score based on its value and quantile range.\n",
        "\n",
        "    Args:\n",
        "        val (float): The score value.\n",
        "        quantile_val (tuple): The quantile range as a tuple of two floats. (<25% and >75%)\n",
        "        invert (bool, optional): Whether to invert the styling. Defaults to False.\n",
        "\n",
        "    Returns:\n",
        "        str: The styling string to be used in HTML or CSS.\n",
        "\n",
        "    \"\"\"\n",
        "    if type(val) == str:\n",
        "        return None\n",
        "    if invert:\n",
        "        return \"color:red;\" if val > quantile_val[0] else ( \"color:blue;\" if val <= quantile_val[1] else \"color:gray;\")\n",
        "    return \"color:red;\" if val < quantile_val[0] else ( \"color:blue;\" if val >= quantile_val[1] else \"color:gray;\")"
      ]
    },
    {
      "cell_type": "markdown",
      "metadata": {
        "id": "-nt3Ihxg4C84"
      },
      "source": [
        "## 2.3. Carregando o dado"
      ]
    },
    {
      "cell_type": "code",
      "execution_count": 4,
      "metadata": {
        "colab": {
          "base_uri": "https://localhost:8080/"
        },
        "id": "9jgK7_0Dgm63",
        "outputId": "2b358ca2-c3f5-451b-c06e-2a184fb7a14d"
      },
      "outputs": [],
      "source": [
        "# from google.colab import drive\n",
        "# drive.mount('/content/drive')"
      ]
    },
    {
      "cell_type": "code",
      "execution_count": 5,
      "metadata": {
        "colab": {
          "base_uri": "https://localhost:8080/",
          "height": 178
        },
        "id": "mqV7lD_X4C84",
        "outputId": "fe693b28-2c52-4ba2-c362-a3971b799e4a"
      },
      "outputs": [
        {
          "name": "stdout",
          "output_type": "stream",
          "text": [
            "CPU times: total: 4.67 s\n",
            "Wall time: 12.1 s\n"
          ]
        },
        {
          "data": {
            "text/html": [
              "<div>\n",
              "<style scoped>\n",
              "    .dataframe tbody tr th:only-of-type {\n",
              "        vertical-align: middle;\n",
              "    }\n",
              "\n",
              "    .dataframe tbody tr th {\n",
              "        vertical-align: top;\n",
              "    }\n",
              "\n",
              "    .dataframe thead th {\n",
              "        text-align: right;\n",
              "    }\n",
              "</style>\n",
              "<table border=\"1\" class=\"dataframe\">\n",
              "  <thead>\n",
              "    <tr style=\"text-align: right;\">\n",
              "      <th></th>\n",
              "      <th>title</th>\n",
              "      <th>text</th>\n",
              "      <th>date</th>\n",
              "      <th>category</th>\n",
              "      <th>subcategory</th>\n",
              "      <th>link</th>\n",
              "    </tr>\n",
              "  </thead>\n",
              "  <tbody>\n",
              "    <tr>\n",
              "      <th>0</th>\n",
              "      <td>Lula diz que está 'lascado', mas que ainda tem...</td>\n",
              "      <td>Com a possibilidade de uma condenação impedir ...</td>\n",
              "      <td>2017-09-10</td>\n",
              "      <td>poder</td>\n",
              "      <td>NaN</td>\n",
              "      <td>http://www1.folha.uol.com.br/poder/2017/10/192...</td>\n",
              "    </tr>\n",
              "    <tr>\n",
              "      <th>1</th>\n",
              "      <td>'Decidi ser escrava das mulheres que sofrem', ...</td>\n",
              "      <td>Para Oumou Sangaré, cantora e ativista malines...</td>\n",
              "      <td>2017-09-10</td>\n",
              "      <td>ilustrada</td>\n",
              "      <td>NaN</td>\n",
              "      <td>http://www1.folha.uol.com.br/ilustrada/2017/10...</td>\n",
              "    </tr>\n",
              "    <tr>\n",
              "      <th>2</th>\n",
              "      <td>Três reportagens da Folha ganham Prêmio Petrob...</td>\n",
              "      <td>Três reportagens da Folha foram vencedoras do ...</td>\n",
              "      <td>2017-09-10</td>\n",
              "      <td>poder</td>\n",
              "      <td>NaN</td>\n",
              "      <td>http://www1.folha.uol.com.br/poder/2017/10/192...</td>\n",
              "    </tr>\n",
              "  </tbody>\n",
              "</table>\n",
              "</div>"
            ],
            "text/plain": [
              "                                               title  \\\n",
              "0  Lula diz que está 'lascado', mas que ainda tem...   \n",
              "1  'Decidi ser escrava das mulheres que sofrem', ...   \n",
              "2  Três reportagens da Folha ganham Prêmio Petrob...   \n",
              "\n",
              "                                                text        date   category  \\\n",
              "0  Com a possibilidade de uma condenação impedir ...  2017-09-10      poder   \n",
              "1  Para Oumou Sangaré, cantora e ativista malines...  2017-09-10  ilustrada   \n",
              "2  Três reportagens da Folha foram vencedoras do ...  2017-09-10      poder   \n",
              "\n",
              "  subcategory                                               link  \n",
              "0         NaN  http://www1.folha.uol.com.br/poder/2017/10/192...  \n",
              "1         NaN  http://www1.folha.uol.com.br/ilustrada/2017/10...  \n",
              "2         NaN  http://www1.folha.uol.com.br/poder/2017/10/192...  "
            ]
          },
          "execution_count": 5,
          "metadata": {},
          "output_type": "execute_result"
        }
      ],
      "source": [
        "%%time\n",
        "# Load data\n",
        "data = pd.read_csv(\"Input/archive.zip\", low_memory=False)\n",
        "# data = pd.read_csv(\"/content/drive/MyDrive/Colab Notebooks/2023/Studies_proj_text_classification/Input/archive.zip\", low_memory=False)\n",
        "data.head(3)"
      ]
    },
    {
      "cell_type": "markdown",
      "metadata": {
        "id": "9bKZMNsp4C85"
      },
      "source": [
        "## 2.4. Primeira análise\n",
        "\n",
        "Foco em exploração do conjunto de dados"
      ]
    },
    {
      "cell_type": "code",
      "execution_count": 6,
      "metadata": {
        "colab": {
          "base_uri": "https://localhost:8080/"
        },
        "id": "ig7QuYWa4C85",
        "outputId": "95c02cb5-d84c-4d3f-8439-ee8181ce7b12"
      },
      "outputs": [
        {
          "name": "stdout",
          "output_type": "stream",
          "text": [
            "CPU times: total: 46.9 ms\n",
            "Wall time: 186 ms\n"
          ]
        },
        {
          "data": {
            "text/plain": [
              "title               0\n",
              "text              765\n",
              "date                0\n",
              "category            0\n",
              "subcategory    137418\n",
              "link                0\n",
              "dtype: int64"
            ]
          },
          "execution_count": 6,
          "metadata": {},
          "output_type": "execute_result"
        }
      ],
      "source": [
        "%%time\n",
        "# Show if there is empty values by columns\n",
        "data.isnull().sum()"
      ]
    },
    {
      "cell_type": "code",
      "execution_count": 7,
      "metadata": {
        "colab": {
          "base_uri": "https://localhost:8080/",
          "height": 641
        },
        "id": "eWgcbKydhHQQ",
        "outputId": "8b7e3cde-469c-483b-87eb-520b1cd3ab19"
      },
      "outputs": [
        {
          "data": {
            "image/png": "[encoded data removed]",
            "text/plain": [
              "<Figure size 1500x700 with 2 Axes>"
            ]
          },
          "metadata": {},
          "output_type": "display_data"
        },
        {
          "name": "stdout",
          "output_type": "stream",
          "text": [
            "CPU times: total: 594 ms\n",
            "Wall time: 1.92 s\n"
          ]
        }
      ],
      "source": [
        "%%time\n",
        "fig, ax = plt.subplots(figsize=(15,7))\n",
        "sns.heatmap(data.isnull(), cmap=\"Blues\", ax=ax)\n",
        "\n",
        "# Define os rótulos personalizados para os valores da legenda\n",
        "cbar = ax.collections[0].colorbar\n",
        "cbar.set_ticks([0, 1])\n",
        "cbar.set_ticklabels(['Presente', 'Nulo'])\n",
        "\n",
        "ax.set(title=\"Representação de valores nulos por coluna\", ylabel=\"Linhas no Dataframe\", xlabel=\"Colunas\")\n",
        "plt.show()"
      ]
    },
    {
      "cell_type": "code",
      "execution_count": 8,
      "metadata": {
        "id": "e-I6TXzfr17W"
      },
      "outputs": [],
      "source": [
        "# Remove rows with missing text\n",
        "mask = data.text.isnull()\n",
        "data = data[~mask]"
      ]
    },
    {
      "cell_type": "code",
      "execution_count": 9,
      "metadata": {
        "colab": {
          "base_uri": "https://localhost:8080/",
          "height": 1000
        },
        "id": "0zKh80NT4C86",
        "outputId": "4171cc55-5cc0-47de-b66c-bbb6f585879f"
      },
      "outputs": [
        {
          "name": "stdout",
          "output_type": "stream",
          "text": [
            "CPU times: total: 78.1 ms\n",
            "Wall time: 236 ms\n"
          ]
        },
        {
          "data": {
            "text/html": [
              "<div>\n",
              "<style scoped>\n",
              "    .dataframe tbody tr th:only-of-type {\n",
              "        vertical-align: middle;\n",
              "    }\n",
              "\n",
              "    .dataframe tbody tr th {\n",
              "        vertical-align: top;\n",
              "    }\n",
              "\n",
              "    .dataframe thead th {\n",
              "        text-align: right;\n",
              "    }\n",
              "</style>\n",
              "<table border=\"1\" class=\"dataframe\">\n",
              "  <thead>\n",
              "    <tr style=\"text-align: right;\">\n",
              "      <th></th>\n",
              "      <th>title</th>\n",
              "      <th>text</th>\n",
              "      <th>date</th>\n",
              "      <th>subcategory</th>\n",
              "      <th>link</th>\n",
              "    </tr>\n",
              "    <tr>\n",
              "      <th>category</th>\n",
              "      <th></th>\n",
              "      <th></th>\n",
              "      <th></th>\n",
              "      <th></th>\n",
              "      <th></th>\n",
              "    </tr>\n",
              "  </thead>\n",
              "  <tbody>\n",
              "    <tr>\n",
              "      <th>poder</th>\n",
              "      <td>22022</td>\n",
              "      <td>22022</td>\n",
              "      <td>22022</td>\n",
              "      <td>939</td>\n",
              "      <td>22022</td>\n",
              "    </tr>\n",
              "    <tr>\n",
              "      <th>colunas</th>\n",
              "      <td>21619</td>\n",
              "      <td>21619</td>\n",
              "      <td>21619</td>\n",
              "      <td>21619</td>\n",
              "      <td>21619</td>\n",
              "    </tr>\n",
              "    <tr>\n",
              "      <th>mercado</th>\n",
              "      <td>20970</td>\n",
              "      <td>20970</td>\n",
              "      <td>20970</td>\n",
              "      <td>0</td>\n",
              "      <td>20970</td>\n",
              "    </tr>\n",
              "    <tr>\n",
              "      <th>esporte</th>\n",
              "      <td>19730</td>\n",
              "      <td>19730</td>\n",
              "      <td>19730</td>\n",
              "      <td>2859</td>\n",
              "      <td>19730</td>\n",
              "    </tr>\n",
              "    <tr>\n",
              "      <th>mundo</th>\n",
              "      <td>17130</td>\n",
              "      <td>17130</td>\n",
              "      <td>17130</td>\n",
              "      <td>0</td>\n",
              "      <td>17130</td>\n",
              "    </tr>\n",
              "    <tr>\n",
              "      <th>cotidiano</th>\n",
              "      <td>16967</td>\n",
              "      <td>16967</td>\n",
              "      <td>16967</td>\n",
              "      <td>35</td>\n",
              "      <td>16967</td>\n",
              "    </tr>\n",
              "    <tr>\n",
              "      <th>ilustrada</th>\n",
              "      <td>15617</td>\n",
              "      <td>15617</td>\n",
              "      <td>15617</td>\n",
              "      <td>0</td>\n",
              "      <td>15617</td>\n",
              "    </tr>\n",
              "    <tr>\n",
              "      <th>opiniao</th>\n",
              "      <td>4525</td>\n",
              "      <td>4525</td>\n",
              "      <td>4525</td>\n",
              "      <td>0</td>\n",
              "      <td>4525</td>\n",
              "    </tr>\n",
              "    <tr>\n",
              "      <th>paineldoleitor</th>\n",
              "      <td>4011</td>\n",
              "      <td>4011</td>\n",
              "      <td>4011</td>\n",
              "      <td>260</td>\n",
              "      <td>4011</td>\n",
              "    </tr>\n",
              "    <tr>\n",
              "      <th>saopaulo</th>\n",
              "      <td>3955</td>\n",
              "      <td>3955</td>\n",
              "      <td>3955</td>\n",
              "      <td>471</td>\n",
              "      <td>3955</td>\n",
              "    </tr>\n",
              "    <tr>\n",
              "      <th>tec</th>\n",
              "      <td>2260</td>\n",
              "      <td>2260</td>\n",
              "      <td>2260</td>\n",
              "      <td>0</td>\n",
              "      <td>2260</td>\n",
              "    </tr>\n",
              "    <tr>\n",
              "      <th>tv</th>\n",
              "      <td>2123</td>\n",
              "      <td>2123</td>\n",
              "      <td>2123</td>\n",
              "      <td>2123</td>\n",
              "      <td>2123</td>\n",
              "    </tr>\n",
              "    <tr>\n",
              "      <th>educacao</th>\n",
              "      <td>2118</td>\n",
              "      <td>2118</td>\n",
              "      <td>2118</td>\n",
              "      <td>0</td>\n",
              "      <td>2118</td>\n",
              "    </tr>\n",
              "    <tr>\n",
              "      <th>turismo</th>\n",
              "      <td>1903</td>\n",
              "      <td>1903</td>\n",
              "      <td>1903</td>\n",
              "      <td>0</td>\n",
              "      <td>1903</td>\n",
              "    </tr>\n",
              "    <tr>\n",
              "      <th>ilustrissima</th>\n",
              "      <td>1409</td>\n",
              "      <td>1409</td>\n",
              "      <td>1409</td>\n",
              "      <td>0</td>\n",
              "      <td>1409</td>\n",
              "    </tr>\n",
              "    <tr>\n",
              "      <th>ciencia</th>\n",
              "      <td>1335</td>\n",
              "      <td>1335</td>\n",
              "      <td>1335</td>\n",
              "      <td>0</td>\n",
              "      <td>1335</td>\n",
              "    </tr>\n",
              "    <tr>\n",
              "      <th>equilibrioesaude</th>\n",
              "      <td>1312</td>\n",
              "      <td>1312</td>\n",
              "      <td>1312</td>\n",
              "      <td>0</td>\n",
              "      <td>1312</td>\n",
              "    </tr>\n",
              "    <tr>\n",
              "      <th>sobretudo</th>\n",
              "      <td>1057</td>\n",
              "      <td>1057</td>\n",
              "      <td>1057</td>\n",
              "      <td>1057</td>\n",
              "      <td>1057</td>\n",
              "    </tr>\n",
              "    <tr>\n",
              "      <th>bbc</th>\n",
              "      <td>980</td>\n",
              "      <td>980</td>\n",
              "      <td>980</td>\n",
              "      <td>0</td>\n",
              "      <td>980</td>\n",
              "    </tr>\n",
              "    <tr>\n",
              "      <th>folhinha</th>\n",
              "      <td>875</td>\n",
              "      <td>875</td>\n",
              "      <td>875</td>\n",
              "      <td>0</td>\n",
              "      <td>875</td>\n",
              "    </tr>\n",
              "    <tr>\n",
              "      <th>empreendedorsocial</th>\n",
              "      <td>841</td>\n",
              "      <td>841</td>\n",
              "      <td>841</td>\n",
              "      <td>150</td>\n",
              "      <td>841</td>\n",
              "    </tr>\n",
              "    <tr>\n",
              "      <th>comida</th>\n",
              "      <td>828</td>\n",
              "      <td>828</td>\n",
              "      <td>828</td>\n",
              "      <td>0</td>\n",
              "      <td>828</td>\n",
              "    </tr>\n",
              "    <tr>\n",
              "      <th>asmais</th>\n",
              "      <td>547</td>\n",
              "      <td>547</td>\n",
              "      <td>547</td>\n",
              "      <td>0</td>\n",
              "      <td>547</td>\n",
              "    </tr>\n",
              "    <tr>\n",
              "      <th>ambiente</th>\n",
              "      <td>491</td>\n",
              "      <td>491</td>\n",
              "      <td>491</td>\n",
              "      <td>0</td>\n",
              "      <td>491</td>\n",
              "    </tr>\n",
              "    <tr>\n",
              "      <th>seminariosfolha</th>\n",
              "      <td>379</td>\n",
              "      <td>379</td>\n",
              "      <td>379</td>\n",
              "      <td>0</td>\n",
              "      <td>379</td>\n",
              "    </tr>\n",
              "    <tr>\n",
              "      <th>serafina</th>\n",
              "      <td>331</td>\n",
              "      <td>331</td>\n",
              "      <td>331</td>\n",
              "      <td>0</td>\n",
              "      <td>331</td>\n",
              "    </tr>\n",
              "    <tr>\n",
              "      <th>o-melhor-de-sao-paulo</th>\n",
              "      <td>189</td>\n",
              "      <td>189</td>\n",
              "      <td>189</td>\n",
              "      <td>71</td>\n",
              "      <td>189</td>\n",
              "    </tr>\n",
              "    <tr>\n",
              "      <th>vice</th>\n",
              "      <td>146</td>\n",
              "      <td>146</td>\n",
              "      <td>146</td>\n",
              "      <td>0</td>\n",
              "      <td>146</td>\n",
              "    </tr>\n",
              "    <tr>\n",
              "      <th>guia-de-livros-discos-filmes</th>\n",
              "      <td>143</td>\n",
              "      <td>143</td>\n",
              "      <td>143</td>\n",
              "      <td>0</td>\n",
              "      <td>143</td>\n",
              "    </tr>\n",
              "    <tr>\n",
              "      <th>topofmind</th>\n",
              "      <td>86</td>\n",
              "      <td>86</td>\n",
              "      <td>86</td>\n",
              "      <td>0</td>\n",
              "      <td>86</td>\n",
              "    </tr>\n",
              "    <tr>\n",
              "      <th>banco-de-dados</th>\n",
              "      <td>64</td>\n",
              "      <td>64</td>\n",
              "      <td>64</td>\n",
              "      <td>0</td>\n",
              "      <td>64</td>\n",
              "    </tr>\n",
              "    <tr>\n",
              "      <th>dw</th>\n",
              "      <td>48</td>\n",
              "      <td>48</td>\n",
              "      <td>48</td>\n",
              "      <td>0</td>\n",
              "      <td>48</td>\n",
              "    </tr>\n",
              "    <tr>\n",
              "      <th>especial</th>\n",
              "      <td>43</td>\n",
              "      <td>43</td>\n",
              "      <td>43</td>\n",
              "      <td>0</td>\n",
              "      <td>43</td>\n",
              "    </tr>\n",
              "    <tr>\n",
              "      <th>cenarios-2017</th>\n",
              "      <td>43</td>\n",
              "      <td>43</td>\n",
              "      <td>43</td>\n",
              "      <td>0</td>\n",
              "      <td>43</td>\n",
              "    </tr>\n",
              "    <tr>\n",
              "      <th>infograficos</th>\n",
              "      <td>40</td>\n",
              "      <td>40</td>\n",
              "      <td>40</td>\n",
              "      <td>0</td>\n",
              "      <td>40</td>\n",
              "    </tr>\n",
              "    <tr>\n",
              "      <th>rfi</th>\n",
              "      <td>29</td>\n",
              "      <td>29</td>\n",
              "      <td>29</td>\n",
              "      <td>0</td>\n",
              "      <td>29</td>\n",
              "    </tr>\n",
              "    <tr>\n",
              "      <th>guia-de-livros-filmes-discos</th>\n",
              "      <td>28</td>\n",
              "      <td>28</td>\n",
              "      <td>28</td>\n",
              "      <td>0</td>\n",
              "      <td>28</td>\n",
              "    </tr>\n",
              "    <tr>\n",
              "      <th>multimidia</th>\n",
              "      <td>27</td>\n",
              "      <td>27</td>\n",
              "      <td>27</td>\n",
              "      <td>27</td>\n",
              "      <td>27</td>\n",
              "    </tr>\n",
              "    <tr>\n",
              "      <th>treinamento</th>\n",
              "      <td>21</td>\n",
              "      <td>21</td>\n",
              "      <td>21</td>\n",
              "      <td>0</td>\n",
              "      <td>21</td>\n",
              "    </tr>\n",
              "    <tr>\n",
              "      <th>treinamentocienciaesaude</th>\n",
              "      <td>18</td>\n",
              "      <td>18</td>\n",
              "      <td>18</td>\n",
              "      <td>0</td>\n",
              "      <td>18</td>\n",
              "    </tr>\n",
              "    <tr>\n",
              "      <th>mulher</th>\n",
              "      <td>16</td>\n",
              "      <td>16</td>\n",
              "      <td>16</td>\n",
              "      <td>0</td>\n",
              "      <td>16</td>\n",
              "    </tr>\n",
              "    <tr>\n",
              "      <th>euronews</th>\n",
              "      <td>8</td>\n",
              "      <td>8</td>\n",
              "      <td>8</td>\n",
              "      <td>0</td>\n",
              "      <td>8</td>\n",
              "    </tr>\n",
              "    <tr>\n",
              "      <th>ombudsman</th>\n",
              "      <td>3</td>\n",
              "      <td>3</td>\n",
              "      <td>3</td>\n",
              "      <td>0</td>\n",
              "      <td>3</td>\n",
              "    </tr>\n",
              "    <tr>\n",
              "      <th>bichos</th>\n",
              "      <td>1</td>\n",
              "      <td>1</td>\n",
              "      <td>1</td>\n",
              "      <td>0</td>\n",
              "      <td>1</td>\n",
              "    </tr>\n",
              "  </tbody>\n",
              "</table>\n",
              "</div>"
            ],
            "text/plain": [
              "                              title   text   date  subcategory   link\n",
              "category                                                             \n",
              "poder                         22022  22022  22022          939  22022\n",
              "colunas                       21619  21619  21619        21619  21619\n",
              "mercado                       20970  20970  20970            0  20970\n",
              "esporte                       19730  19730  19730         2859  19730\n",
              "mundo                         17130  17130  17130            0  17130\n",
              "cotidiano                     16967  16967  16967           35  16967\n",
              "ilustrada                     15617  15617  15617            0  15617\n",
              "opiniao                        4525   4525   4525            0   4525\n",
              "paineldoleitor                 4011   4011   4011          260   4011\n",
              "saopaulo                       3955   3955   3955          471   3955\n",
              "tec                            2260   2260   2260            0   2260\n",
              "tv                             2123   2123   2123         2123   2123\n",
              "educacao                       2118   2118   2118            0   2118\n",
              "turismo                        1903   1903   1903            0   1903\n",
              "ilustrissima                   1409   1409   1409            0   1409\n",
              "ciencia                        1335   1335   1335            0   1335\n",
              "equilibrioesaude               1312   1312   1312            0   1312\n",
              "sobretudo                      1057   1057   1057         1057   1057\n",
              "bbc                             980    980    980            0    980\n",
              "folhinha                        875    875    875            0    875\n",
              "empreendedorsocial              841    841    841          150    841\n",
              "comida                          828    828    828            0    828\n",
              "asmais                          547    547    547            0    547\n",
              "ambiente                        491    491    491            0    491\n",
              "seminariosfolha                 379    379    379            0    379\n",
              "serafina                        331    331    331            0    331\n",
              "o-melhor-de-sao-paulo           189    189    189           71    189\n",
              "vice                            146    146    146            0    146\n",
              "guia-de-livros-discos-filmes    143    143    143            0    143\n",
              "topofmind                        86     86     86            0     86\n",
              "banco-de-dados                   64     64     64            0     64\n",
              "dw                               48     48     48            0     48\n",
              "especial                         43     43     43            0     43\n",
              "cenarios-2017                    43     43     43            0     43\n",
              "infograficos                     40     40     40            0     40\n",
              "rfi                              29     29     29            0     29\n",
              "guia-de-livros-filmes-discos     28     28     28            0     28\n",
              "multimidia                       27     27     27           27     27\n",
              "treinamento                      21     21     21            0     21\n",
              "treinamentocienciaesaude         18     18     18            0     18\n",
              "mulher                           16     16     16            0     16\n",
              "euronews                          8      8      8            0      8\n",
              "ombudsman                         3      3      3            0      3\n",
              "bichos                            1      1      1            0      1"
            ]
          },
          "execution_count": 9,
          "metadata": {},
          "output_type": "execute_result"
        }
      ],
      "source": [
        "%%time\n",
        "# Count items by category\n",
        "data.groupby(\"category\").count().sort_values(by=\"title\", ascending=False)"
      ]
    },
    {
      "cell_type": "markdown",
      "metadata": {
        "id": "OJJ8PIqy435x"
      },
      "source": [
        "## 2.5. Preparação do dados\n",
        "\n",
        "Seleciona as categorias com mais de 1500 notícias no mínimo e agrupa das demais na categorias \"outros\"."
      ]
    },
    {
      "cell_type": "code",
      "execution_count": 10,
      "metadata": {
        "colab": {
          "base_uri": "https://localhost:8080/"
        },
        "id": "3ElXI4J24C87",
        "outputId": "a037ca16-8a23-4fee-c156-d2a0b7ecee15"
      },
      "outputs": [
        {
          "name": "stdout",
          "output_type": "stream",
          "text": [
            "<class 'pandas.core.frame.DataFrame'>\n",
            "Int64Index: 166288 entries, 0 to 167052\n",
            "Data columns (total 6 columns):\n",
            " #   Column       Non-Null Count   Dtype \n",
            "---  ------       --------------   ----- \n",
            " 0   title        166288 non-null  object\n",
            " 1   text         166288 non-null  object\n",
            " 2   date         166288 non-null  object\n",
            " 3   category     166288 non-null  object\n",
            " 4   subcategory  29611 non-null   object\n",
            " 5   link         166288 non-null  object\n",
            "dtypes: object(6)\n",
            "memory usage: 8.9+ MB\n",
            "CPU times: total: 156 ms\n",
            "Wall time: 277 ms\n"
          ]
        }
      ],
      "source": [
        "%%time\n",
        "# To avoid small categories, we will remove the categories with less than 1500 items\n",
        "categories_mask = data[\"category\"].value_counts() > 1500\n",
        "categories_mask = categories_mask[categories_mask.values].index\n",
        "\n",
        "data_reorganized = data.copy()\n",
        "# All categories discarded above will be grouped in a new category called \"outros\"\n",
        "mask = data.category.isin(categories_mask)\n",
        "data_reorganized.loc[~mask, \"category\"] = \"outros\"\n",
        "\n",
        "# Result dataset\n",
        "data_reorganized.info()"
      ]
    },
    {
      "cell_type": "markdown",
      "metadata": {
        "id": "vaYCnQNN4C88"
      },
      "source": [
        "### 2.5.1. Separa os dados\n",
        "\n",
        "A seguir os dados serão separados em treino, teste e validação."
      ]
    },
    {
      "cell_type": "code",
      "execution_count": 11,
      "metadata": {
        "colab": {
          "base_uri": "https://localhost:8080/"
        },
        "id": "r7nFUx6_4C88",
        "outputId": "ec6a5ade-e6a3-4ac0-8622-1e6046d1d13e"
      },
      "outputs": [
        {
          "name": "stdout",
          "output_type": "stream",
          "text": [
            "CPU times: total: 0 ns\n",
            "Wall time: 7 ms\n"
          ]
        },
        {
          "data": {
            "text/plain": [
              "poder             22022\n",
              "colunas           21619\n",
              "mercado           20970\n",
              "esporte           19730\n",
              "mundo             17130\n",
              "cotidiano         16967\n",
              "ilustrada         15617\n",
              "outros            11338\n",
              "opiniao            4525\n",
              "paineldoleitor     4011\n",
              "saopaulo           3955\n",
              "tec                2260\n",
              "tv                 2123\n",
              "educacao           2118\n",
              "turismo            1903\n",
              "Name: category, dtype: int64"
            ]
          },
          "execution_count": 11,
          "metadata": {},
          "output_type": "execute_result"
        }
      ],
      "source": [
        "%%time\n",
        "seed = 333\n",
        "#data_reorganized = data_reorganized.copy().groupby('category').apply(lambda x: x.sample(1500, random_state=seed))\n",
        "\n",
        "# Balanced data\n",
        "data_reorganized.reset_index(drop=True, inplace=True)\n",
        "data_reorganized.category.value_counts()"
      ]
    },
    {
      "cell_type": "markdown",
      "metadata": {
        "id": "ZSHBJdgE4C89"
      },
      "source": [
        "### 2.5.2. Preparação do texto\n",
        "\n",
        "Será criada duas novas colunas no dataframe. A primeira coluna consiste do título e texto da notícia combinados em uma única string e a segunda coluna é umas cópia dessa coluna recém criada mas com os números, acentos e pontuações removidos."
      ]
    },
    {
      "cell_type": "code",
      "execution_count": 12,
      "metadata": {
        "colab": {
          "base_uri": "https://localhost:8080/",
          "height": 241
        },
        "id": "LJmpjQnL4C89",
        "outputId": "18727a8d-f561-4cfe-f0ff-28f42ebe53e0"
      },
      "outputs": [
        {
          "name": "stdout",
          "output_type": "stream",
          "text": [
            "CPU times: total: 50.5 s\n",
            "Wall time: 2min 39s\n"
          ]
        },
        {
          "data": {
            "text/html": [
              "<div>\n",
              "<style scoped>\n",
              "    .dataframe tbody tr th:only-of-type {\n",
              "        vertical-align: middle;\n",
              "    }\n",
              "\n",
              "    .dataframe tbody tr th {\n",
              "        vertical-align: top;\n",
              "    }\n",
              "\n",
              "    .dataframe thead th {\n",
              "        text-align: right;\n",
              "    }\n",
              "</style>\n",
              "<table border=\"1\" class=\"dataframe\">\n",
              "  <thead>\n",
              "    <tr style=\"text-align: right;\">\n",
              "      <th></th>\n",
              "      <th>full_text</th>\n",
              "      <th>norm_text</th>\n",
              "      <th>category</th>\n",
              "    </tr>\n",
              "  </thead>\n",
              "  <tbody>\n",
              "    <tr>\n",
              "      <th>0</th>\n",
              "      <td>Lula diz que está 'lascado', mas que ainda tem...</td>\n",
              "      <td>lula diz que esta lascado mas que ainda tem fo...</td>\n",
              "      <td>poder</td>\n",
              "    </tr>\n",
              "    <tr>\n",
              "      <th>1</th>\n",
              "      <td>'Decidi ser escrava das mulheres que sofrem', ...</td>\n",
              "      <td>decidi ser escrava das mulheres que sofrem diz...</td>\n",
              "      <td>ilustrada</td>\n",
              "    </tr>\n",
              "    <tr>\n",
              "      <th>2</th>\n",
              "      <td>Três reportagens da Folha ganham Prêmio Petrob...</td>\n",
              "      <td>tres reportagens da folha ganham premio petrob...</td>\n",
              "      <td>poder</td>\n",
              "    </tr>\n",
              "    <tr>\n",
              "      <th>3</th>\n",
              "      <td>Filme 'Star Wars: Os Últimos Jedi' ganha trail...</td>\n",
              "      <td>filme star wars os ultimos jedi ganha trailer ...</td>\n",
              "      <td>ilustrada</td>\n",
              "    </tr>\n",
              "    <tr>\n",
              "      <th>4</th>\n",
              "      <td>CBSS inicia acordos com fintechs e quer 30% do...</td>\n",
              "      <td>cbss inicia acordos com fintechs e quer do cre...</td>\n",
              "      <td>mercado</td>\n",
              "    </tr>\n",
              "  </tbody>\n",
              "</table>\n",
              "</div>"
            ],
            "text/plain": [
              "                                           full_text  \\\n",
              "0  Lula diz que está 'lascado', mas que ainda tem...   \n",
              "1  'Decidi ser escrava das mulheres que sofrem', ...   \n",
              "2  Três reportagens da Folha ganham Prêmio Petrob...   \n",
              "3  Filme 'Star Wars: Os Últimos Jedi' ganha trail...   \n",
              "4  CBSS inicia acordos com fintechs e quer 30% do...   \n",
              "\n",
              "                                           norm_text   category  \n",
              "0  lula diz que esta lascado mas que ainda tem fo...      poder  \n",
              "1  decidi ser escrava das mulheres que sofrem diz...  ilustrada  \n",
              "2  tres reportagens da folha ganham premio petrob...      poder  \n",
              "3  filme star wars os ultimos jedi ganha trailer ...  ilustrada  \n",
              "4  cbss inicia acordos com fintechs e quer do cre...    mercado  "
            ]
          },
          "execution_count": 12,
          "metadata": {},
          "output_type": "execute_result"
        }
      ],
      "source": [
        "%%time\n",
        "# Combining text and title\n",
        "df_selected = data_reorganized[[\"title\", \"text\", \"category\"]].copy()\n",
        "df_selected[\"full_text\"] = df_selected[\"title\"] + \" \" + df_selected[\"text\"]\n",
        "# Text cleaning\n",
        "df_selected[\"norm_text\"] = df_selected.full_text.apply(lambda x: remove_multiple_blank_spaces(\n",
        "                                                remove_punctuation(\n",
        "                                                    unidecode(str(x).lower())\n",
        "                                                )\n",
        "                                            ).strip())\n",
        "df_selected = df_selected[[\"full_text\", \"norm_text\", \"category\"]]\n",
        "df_selected.head()\n",
        "\n",
        "# i5 7600 4/4 - 2 min 16 sec \n",
        "# E3-1231v3 4/8 - 2 min 5 sec "
      ]
    },
    {
      "cell_type": "code",
      "execution_count": 13,
      "metadata": {
        "colab": {
          "base_uri": "https://localhost:8080/"
        },
        "id": "7m5doOuo4C8-",
        "outputId": "f9150ea0-9992-45bb-f8dd-484655e6ae98"
      },
      "outputs": [
        {
          "name": "stdout",
          "output_type": "stream",
          "text": [
            "CPU times: total: 62.5 ms\n",
            "Wall time: 44.9 ms\n"
          ]
        }
      ],
      "source": [
        "%%time\n",
        "# Change category to numeric\n",
        "df_selected[\"category\"] = df_selected.category.astype(\"category\")\n",
        "category_map = {key: value for key, value in zip(df_selected.category, df_selected.category.cat.codes)}\n",
        "df_selected.category = df_selected.category.cat.codes"
      ]
    },
    {
      "cell_type": "markdown",
      "metadata": {
        "id": "-HFlgSw84C8-"
      },
      "source": [
        "### 2.5.3. Split data\n",
        "\n",
        "O conjunto de dados é separado em treino, teste e valida.\n",
        "\n",
        " 1. **Treino** é composto por **80%** do conjunto de dados randomicamente selecionado.\n",
        " 2. Em seguida, os **20%** restante são divididos igualmente (**50%/50%**) entre **Teste** e **Valida**"
      ]
    },
    {
      "cell_type": "code",
      "execution_count": 14,
      "metadata": {
        "colab": {
          "base_uri": "https://localhost:8080/"
        },
        "id": "xvoL8yhw4C8-",
        "outputId": "c0409eca-d8bb-4b5e-9435-7fe69e2847e1"
      },
      "outputs": [
        {
          "name": "stdout",
          "output_type": "stream",
          "text": [
            "CPU times: total: 15.6 ms\n",
            "Wall time: 125 ms\n"
          ]
        },
        {
          "data": {
            "text/plain": [
              "((133030, 3), (16629, 3), (16629, 3))"
            ]
          },
          "execution_count": 14,
          "metadata": {},
          "output_type": "execute_result"
        }
      ],
      "source": [
        "%%time\n",
        "# Split Data\n",
        "\n",
        "df_train, df_test = train_test_split(df_selected, test_size=0.2, random_state=seed, stratify=df_selected.category)\n",
        "df_test, df_val = train_test_split(df_test, test_size=0.5, random_state=seed, stratify=df_test.category)\n",
        "\n",
        "df_train.shape, df_test.shape, df_val.shape"
      ]
    },
    {
      "cell_type": "markdown",
      "metadata": {
        "id": "1w9Al1584C8-"
      },
      "source": [
        "## 2.6. Stop words and vectorization\n",
        "\n",
        "Carrega a stopwords e faz a vetorização dos dados utilizando o TF-IDF.\n",
        "\n",
        " 1. Combinei as stopwords da biblioteca spacy e ntlk.\n",
        " 2. Removi a acentuação das stopwords após uma leve melhora nos resultado\n"
      ]
    },
    {
      "cell_type": "code",
      "execution_count": 15,
      "metadata": {
        "id": "fOlj9ebK4C8-"
      },
      "outputs": [],
      "source": [
        "# Uncomment and use to download the stopwords data\n",
        "#! python3 -m spacy download pt_core_news_sm\n",
        "#nltk.download('stopwords')"
      ]
    },
    {
      "cell_type": "code",
      "execution_count": 16,
      "metadata": {
        "colab": {
          "base_uri": "https://localhost:8080/",
          "height": 214
        },
        "id": "b9DJERkA4C8_",
        "outputId": "b8b31f1f-c0eb-4b0e-c0a3-92a03a74a03a"
      },
      "outputs": [
        {
          "name": "stdout",
          "output_type": "stream",
          "text": [
            "CPU times: total: 1min 4s\n",
            "Wall time: 3min 3s\n"
          ]
        },
        {
          "data": {
            "text/html": [
              "<style>#sk-container-id-1 {color: black;}#sk-container-id-1 pre{padding: 0;}#sk-container-id-1 div.sk-toggleable {background-color: white;}#sk-container-id-1 label.sk-toggleable__label {cursor: pointer;display: block;width: 100%;margin-bottom: 0;padding: 0.3em;box-sizing: border-box;text-align: center;}#sk-container-id-1 label.sk-toggleable__label-arrow:before {content: \"▸\";float: left;margin-right: 0.25em;color: #696969;}#sk-container-id-1 label.sk-toggleable__label-arrow:hover:before {color: black;}#sk-container-id-1 div.sk-estimator:hover label.sk-toggleable__label-arrow:before {color: black;}#sk-container-id-1 div.sk-toggleable__content {max-height: 0;max-width: 0;overflow: hidden;text-align: left;background-color: #f0f8ff;}#sk-container-id-1 div.sk-toggleable__content pre {margin: 0.2em;color: black;border-radius: 0.25em;background-color: #f0f8ff;}#sk-container-id-1 input.sk-toggleable__control:checked~div.sk-toggleable__content {max-height: 200px;max-width: 100%;overflow: auto;}#sk-container-id-1 input.sk-toggleable__control:checked~label.sk-toggleable__label-arrow:before {content: \"▾\";}#sk-container-id-1 div.sk-estimator input.sk-toggleable__control:checked~label.sk-toggleable__label {background-color: #d4ebff;}#sk-container-id-1 div.sk-label input.sk-toggleable__control:checked~label.sk-toggleable__label {background-color: #d4ebff;}#sk-container-id-1 input.sk-hidden--visually {border: 0;clip: rect(1px 1px 1px 1px);clip: rect(1px, 1px, 1px, 1px);height: 1px;margin: -1px;overflow: hidden;padding: 0;position: absolute;width: 1px;}#sk-container-id-1 div.sk-estimator {font-family: monospace;background-color: #f0f8ff;border: 1px dotted black;border-radius: 0.25em;box-sizing: border-box;margin-bottom: 0.5em;}#sk-container-id-1 div.sk-estimator:hover {background-color: #d4ebff;}#sk-container-id-1 div.sk-parallel-item::after {content: \"\";width: 100%;border-bottom: 1px solid gray;flex-grow: 1;}#sk-container-id-1 div.sk-label:hover label.sk-toggleable__label {background-color: #d4ebff;}#sk-container-id-1 div.sk-serial::before {content: \"\";position: absolute;border-left: 1px solid gray;box-sizing: border-box;top: 0;bottom: 0;left: 50%;z-index: 0;}#sk-container-id-1 div.sk-serial {display: flex;flex-direction: column;align-items: center;background-color: white;padding-right: 0.2em;padding-left: 0.2em;position: relative;}#sk-container-id-1 div.sk-item {position: relative;z-index: 1;}#sk-container-id-1 div.sk-parallel {display: flex;align-items: stretch;justify-content: center;background-color: white;position: relative;}#sk-container-id-1 div.sk-item::before, #sk-container-id-1 div.sk-parallel-item::before {content: \"\";position: absolute;border-left: 1px solid gray;box-sizing: border-box;top: 0;bottom: 0;left: 50%;z-index: -1;}#sk-container-id-1 div.sk-parallel-item {display: flex;flex-direction: column;z-index: 1;position: relative;background-color: white;}#sk-container-id-1 div.sk-parallel-item:first-child::after {align-self: flex-end;width: 50%;}#sk-container-id-1 div.sk-parallel-item:last-child::after {align-self: flex-start;width: 50%;}#sk-container-id-1 div.sk-parallel-item:only-child::after {width: 0;}#sk-container-id-1 div.sk-dashed-wrapped {border: 1px dashed gray;margin: 0 0.4em 0.5em 0.4em;box-sizing: border-box;padding-bottom: 0.4em;background-color: white;}#sk-container-id-1 div.sk-label label {font-family: monospace;font-weight: bold;display: inline-block;line-height: 1.2em;}#sk-container-id-1 div.sk-label-container {text-align: center;}#sk-container-id-1 div.sk-container {/* jupyter's `normalize.less` sets `[hidden] { display: none; }` but bootstrap.min.css set `[hidden] { display: none !important; }` so we also need the `!important` here to be able to override the default hidden behavior on the sphinx rendered scikit-learn.org. See: https://github.com/scikit-learn/scikit-learn/issues/21755 */display: inline-block !important;position: relative;}#sk-container-id-1 div.sk-text-repr-fallback {display: none;}</style><div id=\"sk-container-id-1\" class=\"sk-top-container\"><div class=\"sk-text-repr-fallback\"><pre>TfidfVectorizer(max_df=0.8, max_features=2000, min_df=5, ngram_range=(1, 2),\n",
              "                stop_words=[&#x27;estiverem&#x27;, &#x27;estara&#x27;, &#x27;ali&#x27;, &#x27;ontem&#x27;, &#x27;tem&#x27;,\n",
              "                            &#x27;parece&#x27;, &#x27;quais&#x27;, &#x27;dizem&#x27;, &#x27;isto&#x27;, &#x27;quem&#x27;, &#x27;forem&#x27;,\n",
              "                            &#x27;e&#x27;, &#x27;estejam&#x27;, &#x27;houveriam&#x27;, &#x27;proximo&#x27;, &#x27;valor&#x27;,\n",
              "                            &#x27;sua&#x27;, &#x27;poem&#x27;, &#x27;um&#x27;, &#x27;seja&#x27;, &#x27;muitos&#x27;, &#x27;tendes&#x27;,\n",
              "                            &#x27;seis&#x27;, &#x27;desta&#x27;, &#x27;uns&#x27;, &#x27;estou&#x27;, &#x27;tenha&#x27;,\n",
              "                            &#x27;teriamos&#x27;, &#x27;tivermos&#x27;, &#x27;algo&#x27;, ...])</pre><b>In a Jupyter environment, please rerun this cell to show the HTML representation or trust the notebook. <br />On GitHub, the HTML representation is unable to render, please try loading this page with nbviewer.org.</b></div><div class=\"sk-container\" hidden><div class=\"sk-item\"><div class=\"sk-estimator sk-toggleable\"><input class=\"sk-toggleable__control sk-hidden--visually\" id=\"sk-estimator-id-1\" type=\"checkbox\" checked><label for=\"sk-estimator-id-1\" class=\"sk-toggleable__label sk-toggleable__label-arrow\">TfidfVectorizer</label><div class=\"sk-toggleable__content\"><pre>TfidfVectorizer(max_df=0.8, max_features=2000, min_df=5, ngram_range=(1, 2),\n",
              "                stop_words=[&#x27;estiverem&#x27;, &#x27;estara&#x27;, &#x27;ali&#x27;, &#x27;ontem&#x27;, &#x27;tem&#x27;,\n",
              "                            &#x27;parece&#x27;, &#x27;quais&#x27;, &#x27;dizem&#x27;, &#x27;isto&#x27;, &#x27;quem&#x27;, &#x27;forem&#x27;,\n",
              "                            &#x27;e&#x27;, &#x27;estejam&#x27;, &#x27;houveriam&#x27;, &#x27;proximo&#x27;, &#x27;valor&#x27;,\n",
              "                            &#x27;sua&#x27;, &#x27;poem&#x27;, &#x27;um&#x27;, &#x27;seja&#x27;, &#x27;muitos&#x27;, &#x27;tendes&#x27;,\n",
              "                            &#x27;seis&#x27;, &#x27;desta&#x27;, &#x27;uns&#x27;, &#x27;estou&#x27;, &#x27;tenha&#x27;,\n",
              "                            &#x27;teriamos&#x27;, &#x27;tivermos&#x27;, &#x27;algo&#x27;, ...])</pre></div></div></div></div></div>"
            ],
            "text/plain": [
              "TfidfVectorizer(max_df=0.8, max_features=2000, min_df=5, ngram_range=(1, 2),\n",
              "                stop_words=['estiverem', 'estara', 'ali', 'ontem', 'tem',\n",
              "                            'parece', 'quais', 'dizem', 'isto', 'quem', 'forem',\n",
              "                            'e', 'estejam', 'houveriam', 'proximo', 'valor',\n",
              "                            'sua', 'poem', 'um', 'seja', 'muitos', 'tendes',\n",
              "                            'seis', 'desta', 'uns', 'estou', 'tenha',\n",
              "                            'teriamos', 'tivermos', 'algo', ...])"
            ]
          },
          "execution_count": 16,
          "metadata": {},
          "output_type": "execute_result"
        }
      ],
      "source": [
        "%%time\n",
        "# Stopwords\n",
        "stopwords_nltk = stopwords.words('portuguese')\n",
        "stopwords_spacy = spacy.load('pt_core_news_sm').Defaults.stop_words\n",
        "both_stopwords = set(stopwords_nltk) | set(stopwords_spacy)\n",
        "both_stopwords = list(map(unidecode, both_stopwords))\n",
        "\n",
        "# Create a TfidfVectorizer object\n",
        "vector = TfidfVectorizer(stop_words=both_stopwords, max_features=2000,\n",
        "                             ngram_range=(1, 2), min_df=5, max_df=0.8, lowercase=True)\n",
        "\n",
        "vector.fit(df_train.norm_text)\n",
        "\n",
        "# i5 7600 4/4 - 2 min 54 sec\n",
        "# E3-1231v3 4/8 - 2 min 30 sec "
      ]
    },
    {
      "cell_type": "code",
      "execution_count": 17,
      "metadata": {
        "colab": {
          "base_uri": "https://localhost:8080/"
        },
        "id": "Voj0quZR4C8_",
        "outputId": "83e4bda6-70f9-44a7-c238-a717439a04d5"
      },
      "outputs": [
        {
          "name": "stdout",
          "output_type": "stream",
          "text": [
            "CPU times: total: 32.6 s\n",
            "Wall time: 1min 34s\n"
          ]
        }
      ],
      "source": [
        "%%time\n",
        "# Text to vectors\n",
        "X_train = vector.transform(df_train.norm_text)\n",
        "X_val = vector.transform(df_val.norm_text)\n",
        "X_test = vector.transform(df_test.norm_text)\n",
        "\n",
        "y_train = df_train.category\n",
        "y_val = df_val.category\n",
        "y_test = df_test.category\n",
        "\n",
        "# i5 7600 4/4 - 1 min 41 sec\n",
        "# E3-1231v3 4/8 - 1 min 1 sec "
      ]
    },
    {
      "cell_type": "code",
      "execution_count": 18,
      "metadata": {
        "colab": {
          "base_uri": "https://localhost:8080/"
        },
        "id": "A_nM7CLv4C8_",
        "outputId": "6e94c28a-8029-4abb-b859-e885caf69e03"
      },
      "outputs": [
        {
          "name": "stdout",
          "output_type": "stream",
          "text": [
            "CPU times: total: 0 ns\n",
            "Wall time: 0 ns\n"
          ]
        },
        {
          "data": {
            "text/plain": [
              "((133030, 2000), (16629, 2000), (16629, 2000))"
            ]
          },
          "execution_count": 18,
          "metadata": {},
          "output_type": "execute_result"
        }
      ],
      "source": [
        "%%time\n",
        "X_train.shape, X_val.shape, X_test.shape"
      ]
    },
    {
      "cell_type": "markdown",
      "metadata": {
        "id": "4-5bzhac4C8_"
      },
      "source": [
        "## 2.7. Analise de N-grams\n",
        "\n",
        "Foco em observar quais palavras mais se relacionam (aparecem próximas)"
      ]
    },
    {
      "cell_type": "code",
      "execution_count": 19,
      "metadata": {
        "colab": {
          "base_uri": "https://localhost:8080/"
        },
        "id": "Zonp8xSD4C9A",
        "outputId": "33242b0d-a46f-483c-e61e-071dc20f91fa"
      },
      "outputs": [
        {
          "name": "stdout",
          "output_type": "stream",
          "text": [
            "CPU times: total: 0 ns\n",
            "Wall time: 46 ms\n"
          ]
        },
        {
          "data": {
            "text/plain": [
              "['noites - seg - aereo - joesley - favoravel - simplesmente - analisar - ex diretor - renan calheiros - empreiteira',\n",
              " 'nesses - investigado - contexto - iria - casa civil - aceitar - longo prazo - artigos - coordenador - provavel',\n",
              " 'lavagem - proteger - vir - estimular - and - fiz - aumentou - industrial - constitucional - perguntas']"
            ]
          },
          "execution_count": 19,
          "metadata": {},
          "output_type": "execute_result"
        }
      ],
      "source": [
        "%%time\n",
        "X_train_sum = np.sum(X_train, axis=0)\n",
        "sorted_ngrams = np.asarray(np.argsort(X_train_sum)[::-1]).reshape(-1)\n",
        "\n",
        "# Get the top 30 ngrams\n",
        "top_ngrams = sorted_ngrams[:30]\n",
        "feature_names = np.array(vector.get_feature_names_out())\n",
        "\n",
        "# reshape a list into a list of strings with 3 \"rows\", each ngram is separated by '-'\n",
        "[ \" - \".join(ii) for ii in np.array_split(feature_names[top_ngrams], 3) ]"
      ]
    },
    {
      "cell_type": "markdown",
      "metadata": {
        "id": "4myWWeJg4C9A"
      },
      "source": [
        "## 2.8. Teste preliminar de modelos\n",
        "\n",
        "Diferentes modelos para foram avaliados em busca dos melhores candidatos.\n",
        "\n",
        "Testes executados:\n",
        " 1. Com subsampling de 300 textos\n",
        "    - Com e sem a remoção da acentuação das stopwords\n",
        " 2. Com subsampling de 1500\n",
        "    - Com e sem a remoção da acentuação das stopwords\n",
        " 3. Com o conjunto total dos textos\n",
        "    - Com a remoção da acentuação das stopwords\n",
        "\n",
        "A quantidade de elementos e a qualidade dos resultados se correlacionaram positivamente e o melhor resultado foi obtido com a totalidade dos dados como podemos ver a seguir:\n",
        "\n",
        "**Atenção:** Para esse passo foi utilizado o algoritmo **train_models** desenvolvido pelo Prof. Dr. Elias Jacob de Menezes Neto e disponibilizado na [Aula 03](https://colab.research.google.com/drive/1_9ReXGzrH0jbKHiyaBNmYsUpV-myjLvu#scrollTo=zx0xFPnSjuis)."
      ]
    },
    {
      "cell_type": "code",
      "execution_count": 20,
      "metadata": {
        "colab": {
          "base_uri": "https://localhost:8080/",
          "height": 394
        },
        "id": "mLprJSWiWr9O",
        "outputId": "925a71f9-15bb-4257-e53c-67ca14a7c970"
      },
      "outputs": [
        {
          "name": "stdout",
          "output_type": "stream",
          "text": [
            "CPU times: total: 15.6 ms\n",
            "Wall time: 71 ms\n"
          ]
        },
        {
          "data": {
            "text/html": [
              "<style type=\"text/css\">\n",
              "#T_3852d_row0_col1, #T_3852d_row0_col2, #T_3852d_row0_col3, #T_3852d_row0_col4, #T_3852d_row3_col5, #T_3852d_row4_col5, #T_3852d_row5_col5, #T_3852d_row6_col5, #T_3852d_row7_col1, #T_3852d_row7_col2, #T_3852d_row7_col3, #T_3852d_row7_col4, #T_3852d_row7_col5, #T_3852d_row8_col5, #T_3852d_row8_col6, #T_3852d_row9_col5, #T_3852d_row9_col6, #T_3852d_row10_col1, #T_3852d_row10_col2, #T_3852d_row10_col3, #T_3852d_row10_col4, #T_3852d_row10_col5, #T_3852d_row10_col6 {\n",
              "  color: red;\n",
              "}\n",
              "#T_3852d_row0_col5, #T_3852d_row0_col6, #T_3852d_row1_col5, #T_3852d_row1_col6, #T_3852d_row2_col2, #T_3852d_row2_col5, #T_3852d_row2_col6, #T_3852d_row3_col2, #T_3852d_row6_col1, #T_3852d_row6_col2, #T_3852d_row6_col3, #T_3852d_row6_col4, #T_3852d_row8_col1, #T_3852d_row8_col3, #T_3852d_row8_col4, #T_3852d_row9_col1, #T_3852d_row9_col3, #T_3852d_row9_col4 {\n",
              "  color: blue;\n",
              "}\n",
              "#T_3852d_row1_col1, #T_3852d_row1_col2, #T_3852d_row1_col3, #T_3852d_row1_col4, #T_3852d_row2_col1, #T_3852d_row2_col3, #T_3852d_row2_col4, #T_3852d_row3_col1, #T_3852d_row3_col3, #T_3852d_row3_col4, #T_3852d_row3_col6, #T_3852d_row4_col1, #T_3852d_row4_col2, #T_3852d_row4_col3, #T_3852d_row4_col4, #T_3852d_row4_col6, #T_3852d_row5_col1, #T_3852d_row5_col2, #T_3852d_row5_col3, #T_3852d_row5_col4, #T_3852d_row5_col6, #T_3852d_row6_col6, #T_3852d_row7_col6, #T_3852d_row8_col2, #T_3852d_row9_col2 {\n",
              "  color: gray;\n",
              "}\n",
              "</style>\n",
              "<table id=\"T_3852d\">\n",
              "  <thead>\n",
              "    <tr>\n",
              "      <th class=\"blank level0\" >&nbsp;</th>\n",
              "      <th id=\"T_3852d_level0_col0\" class=\"col_heading level0 col0\" >Model</th>\n",
              "      <th id=\"T_3852d_level0_col1\" class=\"col_heading level0 col1\" >F1</th>\n",
              "      <th id=\"T_3852d_level0_col2\" class=\"col_heading level0 col2\" >BACC</th>\n",
              "      <th id=\"T_3852d_level0_col3\" class=\"col_heading level0 col3\" >ACC</th>\n",
              "      <th id=\"T_3852d_level0_col4\" class=\"col_heading level0 col4\" >MCC</th>\n",
              "      <th id=\"T_3852d_level0_col5\" class=\"col_heading level0 col5\" >Total Time</th>\n",
              "      <th id=\"T_3852d_level0_col6\" class=\"col_heading level0 col6\" >Time/F1</th>\n",
              "    </tr>\n",
              "  </thead>\n",
              "  <tbody>\n",
              "    <tr>\n",
              "      <th id=\"T_3852d_level0_row0\" class=\"row_heading level0 row0\" >1</th>\n",
              "      <td id=\"T_3852d_row0_col0\" class=\"data row0 col0\" >NB</td>\n",
              "      <td id=\"T_3852d_row0_col1\" class=\"data row0 col1\" >71.0463%</td>\n",
              "      <td id=\"T_3852d_row0_col2\" class=\"data row0 col2\" >63.4310%</td>\n",
              "      <td id=\"T_3852d_row0_col3\" class=\"data row0 col3\" >71.0463%</td>\n",
              "      <td id=\"T_3852d_row0_col4\" class=\"data row0 col4\" >67.9315%</td>\n",
              "      <td id=\"T_3852d_row0_col5\" class=\"data row0 col5\" >0.1759 sec</td>\n",
              "      <td id=\"T_3852d_row0_col6\" class=\"data row0 col6\" >4.0400</td>\n",
              "    </tr>\n",
              "    <tr>\n",
              "      <th id=\"T_3852d_level0_row1\" class=\"row_heading level0 row1\" >2</th>\n",
              "      <td id=\"T_3852d_row1_col0\" class=\"data row1 col0\" >SGD</td>\n",
              "      <td id=\"T_3852d_row1_col1\" class=\"data row1 col1\" >76.4995%</td>\n",
              "      <td id=\"T_3852d_row1_col2\" class=\"data row1 col2\" >78.3122%</td>\n",
              "      <td id=\"T_3852d_row1_col3\" class=\"data row1 col3\" >76.4995%</td>\n",
              "      <td id=\"T_3852d_row1_col4\" class=\"data row1 col4\" >74.2078%</td>\n",
              "      <td id=\"T_3852d_row1_col5\" class=\"data row1 col5\" >1.3265 sec</td>\n",
              "      <td id=\"T_3852d_row1_col6\" class=\"data row1 col6\" >0.5767</td>\n",
              "    </tr>\n",
              "    <tr>\n",
              "      <th id=\"T_3852d_level0_row2\" class=\"row_heading level0 row2\" >3</th>\n",
              "      <td id=\"T_3852d_row2_col0\" class=\"data row2 col0\" >LSVC</td>\n",
              "      <td id=\"T_3852d_row2_col1\" class=\"data row2 col1\" >80.2047%</td>\n",
              "      <td id=\"T_3852d_row2_col2\" class=\"data row2 col2\" >79.0574%</td>\n",
              "      <td id=\"T_3852d_row2_col3\" class=\"data row2 col3\" >80.2047%</td>\n",
              "      <td id=\"T_3852d_row2_col4\" class=\"data row2 col4\" >78.0638%</td>\n",
              "      <td id=\"T_3852d_row2_col5\" class=\"data row2 col5\" >17.8661 sec</td>\n",
              "      <td id=\"T_3852d_row2_col6\" class=\"data row2 col6\" >0.0449</td>\n",
              "    </tr>\n",
              "    <tr>\n",
              "      <th id=\"T_3852d_level0_row3\" class=\"row_heading level0 row3\" >4</th>\n",
              "      <td id=\"T_3852d_row3_col0\" class=\"data row3 col0\" >LR</td>\n",
              "      <td id=\"T_3852d_row3_col1\" class=\"data row3 col1\" >79.2290%</td>\n",
              "      <td id=\"T_3852d_row3_col2\" class=\"data row3 col2\" >80.3418%</td>\n",
              "      <td id=\"T_3852d_row3_col3\" class=\"data row3 col3\" >79.2290%</td>\n",
              "      <td id=\"T_3852d_row3_col4\" class=\"data row3 col4\" >77.0578%</td>\n",
              "      <td id=\"T_3852d_row3_col5\" class=\"data row3 col5\" >26.6815 sec</td>\n",
              "      <td id=\"T_3852d_row3_col6\" class=\"data row3 col6\" >0.0297</td>\n",
              "    </tr>\n",
              "    <tr>\n",
              "      <th id=\"T_3852d_level0_row4\" class=\"row_heading level0 row4\" >5</th>\n",
              "      <td id=\"T_3852d_row4_col0\" class=\"data row4 col0\" >Calibrated-LSVC</td>\n",
              "      <td id=\"T_3852d_row4_col1\" class=\"data row4 col1\" >81.0487%</td>\n",
              "      <td id=\"T_3852d_row4_col2\" class=\"data row4 col2\" >75.4381%</td>\n",
              "      <td id=\"T_3852d_row4_col3\" class=\"data row4 col3\" >81.0487%</td>\n",
              "      <td id=\"T_3852d_row4_col4\" class=\"data row4 col4\" >78.8893%</td>\n",
              "      <td id=\"T_3852d_row4_col5\" class=\"data row4 col5\" >72.7646 sec</td>\n",
              "      <td id=\"T_3852d_row4_col6\" class=\"data row4 col6\" >0.0111</td>\n",
              "    </tr>\n",
              "    <tr>\n",
              "      <th id=\"T_3852d_level0_row5\" class=\"row_heading level0 row5\" >6</th>\n",
              "      <td id=\"T_3852d_row5_col0\" class=\"data row5 col0\" >RF</td>\n",
              "      <td id=\"T_3852d_row5_col1\" class=\"data row5 col1\" >78.5227%</td>\n",
              "      <td id=\"T_3852d_row5_col2\" class=\"data row5 col2\" >73.2437%</td>\n",
              "      <td id=\"T_3852d_row5_col3\" class=\"data row5 col3\" >78.5227%</td>\n",
              "      <td id=\"T_3852d_row5_col4\" class=\"data row5 col4\" >76.1251%</td>\n",
              "      <td id=\"T_3852d_row5_col5\" class=\"data row5 col5\" >305.5440 sec</td>\n",
              "      <td id=\"T_3852d_row5_col6\" class=\"data row5 col6\" >0.0026</td>\n",
              "    </tr>\n",
              "    <tr>\n",
              "      <th id=\"T_3852d_level0_row6\" class=\"row_heading level0 row6\" >7</th>\n",
              "      <td id=\"T_3852d_row6_col0\" class=\"data row6 col0\" >LGBM</td>\n",
              "      <td id=\"T_3852d_row6_col1\" class=\"data row6 col1\" >82.7667%</td>\n",
              "      <td id=\"T_3852d_row6_col2\" class=\"data row6 col2\" >82.3218%</td>\n",
              "      <td id=\"T_3852d_row6_col3\" class=\"data row6 col3\" >82.7667%</td>\n",
              "      <td id=\"T_3852d_row6_col4\" class=\"data row6 col4\" >80.8845%</td>\n",
              "      <td id=\"T_3852d_row6_col5\" class=\"data row6 col5\" >434.1281 sec</td>\n",
              "      <td id=\"T_3852d_row6_col6\" class=\"data row6 col6\" >0.0019</td>\n",
              "    </tr>\n",
              "    <tr>\n",
              "      <th id=\"T_3852d_level0_row7\" class=\"row_heading level0 row7\" >8</th>\n",
              "      <td id=\"T_3852d_row7_col0\" class=\"data row7 col0\" >DT</td>\n",
              "      <td id=\"T_3852d_row7_col1\" class=\"data row7 col1\" >60.8225%</td>\n",
              "      <td id=\"T_3852d_row7_col2\" class=\"data row7 col2\" >59.3298%</td>\n",
              "      <td id=\"T_3852d_row7_col3\" class=\"data row7 col3\" >60.8225%</td>\n",
              "      <td id=\"T_3852d_row7_col4\" class=\"data row7 col4\" >56.4052%</td>\n",
              "      <td id=\"T_3852d_row7_col5\" class=\"data row7 col5\" >373.4289 sec</td>\n",
              "      <td id=\"T_3852d_row7_col6\" class=\"data row7 col6\" >0.0016</td>\n",
              "    </tr>\n",
              "    <tr>\n",
              "      <th id=\"T_3852d_level0_row8\" class=\"row_heading level0 row8\" >9</th>\n",
              "      <td id=\"T_3852d_row8_col0\" class=\"data row8 col0\" >MLP</td>\n",
              "      <td id=\"T_3852d_row8_col1\" class=\"data row8 col1\" >81.6713%</td>\n",
              "      <td id=\"T_3852d_row8_col2\" class=\"data row8 col2\" >76.9997%</td>\n",
              "      <td id=\"T_3852d_row8_col3\" class=\"data row8 col3\" >81.6713%</td>\n",
              "      <td id=\"T_3852d_row8_col4\" class=\"data row8 col4\" >79.5946%</td>\n",
              "      <td id=\"T_3852d_row8_col5\" class=\"data row8 col5\" >630.8444 sec</td>\n",
              "      <td id=\"T_3852d_row8_col6\" class=\"data row8 col6\" >0.0013</td>\n",
              "    </tr>\n",
              "    <tr>\n",
              "      <th id=\"T_3852d_level0_row9\" class=\"row_heading level0 row9\" >10</th>\n",
              "      <td id=\"T_3852d_row9_col0\" class=\"data row9 col0\" >XGB</td>\n",
              "      <td id=\"T_3852d_row9_col1\" class=\"data row9 col1\" >82.1262%</td>\n",
              "      <td id=\"T_3852d_row9_col2\" class=\"data row9 col2\" >76.8695%</td>\n",
              "      <td id=\"T_3852d_row9_col3\" class=\"data row9 col3\" >82.1262%</td>\n",
              "      <td id=\"T_3852d_row9_col4\" class=\"data row9 col4\" >80.0853%</td>\n",
              "      <td id=\"T_3852d_row9_col5\" class=\"data row9 col5\" >1328.1116 sec</td>\n",
              "      <td id=\"T_3852d_row9_col6\" class=\"data row9 col6\" >0.0006</td>\n",
              "    </tr>\n",
              "    <tr>\n",
              "      <th id=\"T_3852d_level0_row10\" class=\"row_heading level0 row10\" >11</th>\n",
              "      <td id=\"T_3852d_row10_col0\" class=\"data row10 col0\" >KNN</td>\n",
              "      <td id=\"T_3852d_row10_col1\" class=\"data row10 col1\" >46.5581%</td>\n",
              "      <td id=\"T_3852d_row10_col2\" class=\"data row10 col2\" >40.6389%</td>\n",
              "      <td id=\"T_3852d_row10_col3\" class=\"data row10 col3\" >46.5581%</td>\n",
              "      <td id=\"T_3852d_row10_col4\" class=\"data row10 col4\" >47.7669%</td>\n",
              "      <td id=\"T_3852d_row10_col5\" class=\"data row10 col5\" >2434.0371 sec</td>\n",
              "      <td id=\"T_3852d_row10_col6\" class=\"data row10 col6\" >0.0002</td>\n",
              "    </tr>\n",
              "  </tbody>\n",
              "</table>\n"
            ],
            "text/plain": [
              "<pandas.io.formats.style.Styler at 0x2ac8366c390>"
            ]
          },
          "execution_count": 20,
          "metadata": {},
          "output_type": "execute_result"
        }
      ],
      "source": [
        "%%time\n",
        "# Load file with results processed earlyer\n",
        "df_results = pd.read_csv(\"df_results.csv\", low_memory=False)\n",
        "# df_results = pd.read_csv(\"/content/drive/MyDrive/Colab Notebooks/2023/Studies_proj_text_classification/df_results.csv\", low_memory=False)\n",
        "\n",
        "df_results[\"Time/F1\"] = df_results.F1/df_results[\"Total Time\"]\n",
        "df_stl = df_results.sort_values(by=\"Time/F1\", ascending=False).drop([\"Confusion Matrix\", \"Classification Report\"], axis=1).reset_index(drop=True)\n",
        "df_stl.index +=1 \n",
        "\n",
        "quantiles_dict = {}\n",
        "for col in df_stl.columns[1:]:\n",
        "    quantiles_dict[col] = df_stl[col].quantile([.25, .75]).values\n",
        "\n",
        "df_stl.style.format({\"F1\": \"{:.4%}\", \"BACC\": \"{:.4%}\", \"ACC\": \"{:.4%}\",\n",
        "                     \"MCC\": \"{:.4%}\", \"Total Time\": \"{:.4f} sec\", \"Time/F1\": \"{:.4f}\"}) \\\n",
        "                        .applymap(style_score, quantile_val=quantiles_dict[\"F1\"], subset=[\"F1\"]) \\\n",
        "                        .applymap(style_score, quantile_val=quantiles_dict[\"BACC\"], subset=[\"BACC\"]) \\\n",
        "                        .applymap(style_score, quantile_val=quantiles_dict[\"ACC\"], subset=[\"ACC\"]) \\\n",
        "                        .applymap(style_score, quantile_val=quantiles_dict[\"MCC\"], subset=[\"MCC\"]) \\\n",
        "                        .applymap(style_score, quantile_val=quantiles_dict[\"Time/F1\"], subset=[\"Time/F1\"]) \\\n",
        "                        .applymap(style_score, quantile_val=quantiles_dict[\"Total Time\"], invert=True, subset=[\"Total Time\"])"
      ]
    },
    {
      "cell_type": "markdown",
      "metadata": {},
      "source": [
        "Os valores são destacados com base nos quartis de cada coluna. Valores abaixo dos 25% são destacados em vermelho e valores acima dos 75% são destacados em azul."
      ]
    },
    {
      "cell_type": "markdown",
      "metadata": {
        "id": "Zgzkl5q84C9A"
      },
      "source": [
        "## 2.9. Ensemble Classifier Explanation\n",
        "\n",
        "A partir dos resultados anteriores escolhemos os três modelos com melhor relação F1/Tempo Total.\n",
        "\n",
        " - NB\n",
        " - SGD\n",
        " - LSVC"
      ]
    },
    {
      "cell_type": "code",
      "execution_count": null,
      "metadata": {
        "colab": {
          "base_uri": "https://localhost:8080/"
        },
        "id": "nDKSzaWb4C9A",
        "outputId": "bce48ee5-645f-4801-a6ba-9fd159f10c0d"
      },
      "outputs": [],
      "source": [
        "%%time\n",
        "model_nb = MultinomialNB()\n",
        "model_sgd = SGDClassifier(random_state=seed, n_jobs=-1, class_weight='balanced')\n",
        "model_lsvc = LinearSVC(random_state=seed, class_weight='balanced', dual=\"auto\")\n",
        "\n",
        "estimators = [('NB', model_nb),\n",
        "              ('SGD', model_sgd),\n",
        "              ('LSVC', model_lsvc)]\n",
        "\n",
        "model_stacked = StackingClassifier(estimators=estimators,\n",
        "                                   final_estimator=LogisticRegression(random_state=seed,\n",
        "                                                                        n_jobs=-1,\n",
        "                                                                        class_weight='balanced'),\n",
        "                                   n_jobs=-1, cv=5)\n",
        "\n",
        "model_stacked.fit(X_train, y_train)\n",
        "pred = model_stacked.predict(X_val)\n",
        "\n",
        "f1 = f1_score(y_val, pred, average='micro')\n",
        "bacc = balanced_accuracy_score(y_val, pred)\n",
        "acc = accuracy_score(y_val, pred)\n",
        "# cr = classification_report(y_val, pred)\n",
        "mcc = matthews_corrcoef(y_val, pred)\n",
        "cm = confusion_matrix(y_val, pred)\n",
        "\n",
        "print(f'F1: {f1:.4f} - BACC: {bacc:.4f} - ACC: {acc:.4f} - MCC: {mcc:.4f}')\n",
        "\n",
        "# i5 7600 4/4 - 1 min 25 sec\n",
        "# E3-1231v3 4/8 - 1 min 4 sec "
      ]
    },
    {
      "cell_type": "markdown",
      "metadata": {
        "id": "yI9AXJ_0fHN0"
      },
      "source": [
        "Como podemos observar, utilizando os modelos NB, SGD e LSVC como estimadores obtivemos um resultado ligeiramente inferior ao resultado do LSVC separadamente.\n",
        "\n",
        "Para o próximo teste foram selecionados modelos com um melhor desempenho geral, mesmo que o tempo de treinamento seja maior.\n",
        "\n",
        " - Calibrated-LSVC\n",
        " - SGD\n",
        " - LGBM  "
      ]
    },
    {
      "cell_type": "code",
      "execution_count": null,
      "metadata": {},
      "outputs": [
        {
          "name": "stdout",
          "output_type": "stream",
          "text": [
            "[LightGBM] [Warning] Auto-choosing row-wise multi-threading, the overhead of testing was 6.587173 seconds.\n",
            "You can set `force_row_wise=true` to remove the overhead.\n",
            "And if memory is not enough, you can set `force_col_wise=true`.\n",
            "[LightGBM] [Info] Total Bins 509928\n",
            "[LightGBM] [Info] Number of data points in the train set: 133030, number of used features: 2000\n",
            "[LightGBM] [Info] Start training from score -2.708050\n",
            "[LightGBM] [Info] Start training from score -2.708050\n",
            "[LightGBM] [Info] Start training from score -2.708050\n",
            "[LightGBM] [Info] Start training from score -2.708050\n",
            "[LightGBM] [Info] Start training from score -2.708050\n",
            "[LightGBM] [Info] Start training from score -2.708050\n",
            "[LightGBM] [Info] Start training from score -2.708050\n",
            "[LightGBM] [Info] Start training from score -2.708050\n",
            "[LightGBM] [Info] Start training from score -2.708050\n",
            "[LightGBM] [Info] Start training from score -2.708050\n",
            "[LightGBM] [Info] Start training from score -2.708050\n",
            "[LightGBM] [Info] Start training from score -2.708050\n",
            "[LightGBM] [Info] Start training from score -2.708050\n",
            "[LightGBM] [Info] Start training from score -2.708050\n",
            "[LightGBM] [Info] Start training from score -2.708050\n",
            "[LightGBM] [Warning] Auto-choosing col-wise multi-threading, the overhead of testing was 3.377070 seconds.\n",
            "You can set `force_col_wise=true` to remove the overhead.\n",
            "[LightGBM] [Info] Total Bins 509860\n",
            "[LightGBM] [Warning] Auto-choosing col-wise multi-threading, the overhead of testing was 3.573624 seconds.\n",
            "You can set `force_col_wise=true` to remove the overhead.\n",
            "[LightGBM] [Warning] Auto-choosing col-wise multi-threading, the overhead of testing was 3.858764 seconds.\n",
            "You can set `force_col_wise=true` to remove the overhead.\n",
            "[LightGBM] [Warning] Auto-choosing row-wise multi-threading, the overhead of testing was 3.582204 seconds.\n",
            "You can set `force_row_wise=true` to remove the overhead.\n",
            "And if memory is not enough, you can set `force_col_wise=true`.\n",
            "[LightGBM] [Info] Total Bins 509856\n",
            "[LightGBM] [Info] Total Bins 509839\n",
            "[LightGBM] [Info] Total Bins 509847\n",
            "[LightGBM] [Info] Number of data points in the train set: 106424, number of used features: 2000\n",
            "[LightGBM] [Info] Start training from score -2.708050\n",
            "[LightGBM] [Info] Start training from score -2.708050\n",
            "[LightGBM] [Info] Start training from score -2.708050\n",
            "[LightGBM] [Info] Start training from score -2.708050\n",
            "[LightGBM] [Info] Start training from score -2.708050\n",
            "[LightGBM] [Info] Start training from score -2.708050\n",
            "[LightGBM] [Info] Start training from score -2.708050\n",
            "[LightGBM] [Info] Start training from score -2.708050\n",
            "[LightGBM] [Info] Start training from score -2.708050\n",
            "[LightGBM] [Info] Start training from score -2.708050\n",
            "[LightGBM] [Info] Start training from score -2.708050\n",
            "[LightGBM] [Info] Start training from score -2.708050\n",
            "[LightGBM] [Info] Start training from score -2.708050\n",
            "[LightGBM] [Info] Start training from score -2.708050\n",
            "[LightGBM] [Info] Start training from score -2.708050\n",
            "[LightGBM] [Info] Number of data points in the train set: 106424, number of used features: 2000\n",
            "[LightGBM] [Info] Number of data points in the train set: 106424, number of used features: 2000\n",
            "[LightGBM] [Info] Number of data points in the train set: 106424, number of used features: 2000\n",
            "[LightGBM] [Info] Start training from score -2.708050\n",
            "[LightGBM] [Info] Start training from score -2.708050\n",
            "[LightGBM] [Info] Start training from score -2.708050\n",
            "[LightGBM] [Info] Start training from score -2.708050\n",
            "[LightGBM] [Info] Start training from score -2.708050\n",
            "[LightGBM] [Info] Start training from score -2.708050\n",
            "[LightGBM] [Info] Start training from score -2.708050\n",
            "[LightGBM] [Info] Start training from score -2.708050\n",
            "[LightGBM] [Info] Start training from score -2.708050\n",
            "[LightGBM] [Info] Start training from score -2.708050\n",
            "[LightGBM] [Info] Start training from score -2.708050\n",
            "[LightGBM] [Info] Start training from score -2.708050\n",
            "[LightGBM] [Info] Start training from score -2.708050\n",
            "[LightGBM] [Info] Start training from score -2.708050\n",
            "[LightGBM] [Info] Start training from score -2.708050\n",
            "[LightGBM] [Info] Start training from score -2.708050\n",
            "[LightGBM] [Info] Start training from score -2.708050\n",
            "[LightGBM] [Info] Start training from score -2.708050\n",
            "[LightGBM] [Info] Start training from score -2.708050\n",
            "[LightGBM] [Info] Start training from score -2.708050\n",
            "[LightGBM] [Info] Start training from score -2.708050\n",
            "[LightGBM] [Info] Start training from score -2.708050\n",
            "[LightGBM] [Info] Start training from score -2.708050\n",
            "[LightGBM] [Info] Start training from score -2.708050\n",
            "[LightGBM] [Info] Start training from score -2.708050\n",
            "[LightGBM] [Info] Start training from score -2.708050\n",
            "[LightGBM] [Info] Start training from score -2.708050\n",
            "[LightGBM] [Info] Start training from score -2.708050\n",
            "[LightGBM] [Info] Start training from score -2.708050\n",
            "[LightGBM] [Info] Start training from score -2.708050\n",
            "[LightGBM] [Info] Start training from score -2.708050\n",
            "[LightGBM] [Info] Start training from score -2.708050\n",
            "[LightGBM] [Info] Start training from score -2.708050\n",
            "[LightGBM] [Info] Start training from score -2.708050\n",
            "[LightGBM] [Info] Start training from score -2.708050\n",
            "[LightGBM] [Info] Start training from score -2.708050\n",
            "[LightGBM] [Info] Start training from score -2.708050\n",
            "[LightGBM] [Info] Start training from score -2.708050\n",
            "[LightGBM] [Info] Start training from score -2.708050\n",
            "[LightGBM] [Info] Start training from score -2.708050\n",
            "[LightGBM] [Info] Start training from score -2.708050\n",
            "[LightGBM] [Info] Start training from score -2.708050\n",
            "[LightGBM] [Info] Start training from score -2.708050\n",
            "[LightGBM] [Info] Start training from score -2.708050\n",
            "[LightGBM] [Info] Start training from score -2.708050\n",
            "[LightGBM] [Warning] Auto-choosing col-wise multi-threading, the overhead of testing was 3.577276 seconds.\n",
            "You can set `force_col_wise=true` to remove the overhead.\n",
            "[LightGBM] [Info] Total Bins 509847\n",
            "[LightGBM] [Info] Number of data points in the train set: 106424, number of used features: 2000\n",
            "[LightGBM] [Info] Start training from score -2.708050\n",
            "[LightGBM] [Info] Start training from score -2.708050\n",
            "[LightGBM] [Info] Start training from score -2.708050\n",
            "[LightGBM] [Info] Start training from score -2.708050\n",
            "[LightGBM] [Info] Start training from score -2.708050\n",
            "[LightGBM] [Info] Start training from score -2.708050\n",
            "[LightGBM] [Info] Start training from score -2.708050\n",
            "[LightGBM] [Info] Start training from score -2.708050\n",
            "[LightGBM] [Info] Start training from score -2.708050\n",
            "[LightGBM] [Info] Start training from score -2.708050\n",
            "[LightGBM] [Info] Start training from score -2.708050\n",
            "[LightGBM] [Info] Start training from score -2.708050\n",
            "[LightGBM] [Info] Start training from score -2.708050\n",
            "[LightGBM] [Info] Start training from score -2.708050\n",
            "[LightGBM] [Info] Start training from score -2.708050\n"
          ]
        },
        {
          "name": "stderr",
          "output_type": "stream",
          "text": [
            "/home/ivan/.local/lib/python3.10/site-packages/sklearn/linear_model/_logistic.py:460: ConvergenceWarning: lbfgs failed to converge (status=1):\n",
            "STOP: TOTAL NO. of ITERATIONS REACHED LIMIT.\n",
            "\n",
            "Increase the number of iterations (max_iter) or scale the data as shown in:\n",
            "    https://scikit-learn.org/stable/modules/preprocessing.html\n",
            "Please also refer to the documentation for alternative solver options:\n",
            "    https://scikit-learn.org/stable/modules/linear_model.html#logistic-regression\n",
            "  n_iter_i = _check_optimize_result(\n"
          ]
        },
        {
          "name": "stdout",
          "output_type": "stream",
          "text": [
            "F1: 0.8270 - BACC: 0.8438 - ACC: 0.8270 - MCC: 0.8087\n",
            "CPU times: user 22.5 s, sys: 6.46 s, total: 28.9 s\n",
            "Wall time: 39min 30s\n"
          ]
        }
      ],
      "source": [
        "%%time\n",
        "model_clsvc = CalibratedClassifierCV(LinearSVC(random_state=seed, class_weight='balanced', dual=\"auto\"))\n",
        "model_sgd = SGDClassifier(random_state=seed, n_jobs=-1, class_weight='balanced')\n",
        "model_lgbm = LGBMClassifier(random_state=seed, n_jobs=-1, class_weight='balanced')\n",
        "\n",
        "estimators = [('Calibrated-LSVC', model_clsvc),\n",
        "              ('SGD', model_sgd),\n",
        "              ('LGBM', model_lgbm)]\n",
        "\n",
        "model_stacked = StackingClassifier(estimators=estimators,\n",
        "                                   final_estimator=LogisticRegression(random_state=seed,\n",
        "                                                                        n_jobs=-1,\n",
        "                                                                        class_weight='balanced'),\n",
        "                                   n_jobs=-1, cv=5)\n",
        "\n",
        "model_stacked.fit(X_train, y_train)\n",
        "pred = model_stacked.predict(X_val)\n",
        "\n",
        "f1 = f1_score(y_val, pred, average='micro')\n",
        "bacc = balanced_accuracy_score(y_val, pred)\n",
        "acc = accuracy_score(y_val, pred)\n",
        "# cr = classification_report(y_val, pred)\n",
        "mcc = matthews_corrcoef(y_val, pred)\n",
        "cm = confusion_matrix(y_val, pred)\n",
        "\n",
        "print(f'F1: {f1:.4f} - BACC: {bacc:.4f} - ACC: {acc:.4f} - MCC: {mcc:.4f}')\n",
        "\n",
        "# i5 7600 4/4 - 41 min 55 sec\n",
        "# E3-1231v3 4/8 - 37 min 53 sec"
      ]
    },
    {
      "cell_type": "markdown",
      "metadata": {},
      "source": [
        "Como resutlado, o modelo não demonstrou alteração significativas nos valores para F1, MCC, ACC e BACC. Porém, o tempo de treinamento aumentou consideravelmente o que nos levar a concluir que a utilização do modelo LGBM separadamente é mais vantajosa.\n",
        "\n",
        " - Ensemble Classifier = 41 minutos\n",
        " - LGBM = 7 minuto\n"
      ]
    },
    {
      "cell_type": "code",
      "execution_count": null,
      "metadata": {},
      "outputs": [
        {
          "data": {
            "text/html": [
              "<div>\n",
              "<style scoped>\n",
              "    .dataframe tbody tr th:only-of-type {\n",
              "        vertical-align: middle;\n",
              "    }\n",
              "\n",
              "    .dataframe tbody tr th {\n",
              "        vertical-align: top;\n",
              "    }\n",
              "\n",
              "    .dataframe thead th {\n",
              "        text-align: right;\n",
              "    }\n",
              "</style>\n",
              "<table border=\"1\" class=\"dataframe\">\n",
              "  <thead>\n",
              "    <tr style=\"text-align: right;\">\n",
              "      <th></th>\n",
              "      <th>Model</th>\n",
              "      <th>F1</th>\n",
              "      <th>BACC</th>\n",
              "      <th>ACC</th>\n",
              "      <th>MCC</th>\n",
              "    </tr>\n",
              "  </thead>\n",
              "  <tbody>\n",
              "    <tr>\n",
              "      <th>2</th>\n",
              "      <td>SGD</td>\n",
              "      <td>0.764995</td>\n",
              "      <td>0.783122</td>\n",
              "      <td>0.764995</td>\n",
              "      <td>0.742078</td>\n",
              "    </tr>\n",
              "    <tr>\n",
              "      <th>5</th>\n",
              "      <td>Calibrated-LSVC</td>\n",
              "      <td>0.810487</td>\n",
              "      <td>0.754381</td>\n",
              "      <td>0.810487</td>\n",
              "      <td>0.788893</td>\n",
              "    </tr>\n",
              "    <tr>\n",
              "      <th>7</th>\n",
              "      <td>LGBM</td>\n",
              "      <td>0.827667</td>\n",
              "      <td>0.823218</td>\n",
              "      <td>0.827667</td>\n",
              "      <td>0.808845</td>\n",
              "    </tr>\n",
              "  </tbody>\n",
              "</table>\n",
              "</div>"
            ],
            "text/plain": [
              "             Model        F1      BACC       ACC       MCC\n",
              "2              SGD  0.764995  0.783122  0.764995  0.742078\n",
              "5  Calibrated-LSVC  0.810487  0.754381  0.810487  0.788893\n",
              "7             LGBM  0.827667  0.823218  0.827667  0.808845"
            ]
          },
          "execution_count": 23,
          "metadata": {},
          "output_type": "execute_result"
        }
      ],
      "source": [
        "mask = df_stl[\"Model\"].isin([\"Calibrated-LSVC\", \"SGD\", \"LGBM\"])\n",
        "df_stl.loc[mask, \"Model\":\"MCC\"]"
      ]
    },
    {
      "cell_type": "markdown",
      "metadata": {},
      "source": [
        "Na matriz de confusão abaixo podemos observar quais catregorias foram mais confundidas pelo modelo."
      ]
    },
    {
      "cell_type": "code",
      "execution_count": null,
      "metadata": {
        "colab": {
          "base_uri": "https://localhost:8080/",
          "height": 512
        },
        "id": "SSYFl8VF3q8q",
        "outputId": "af2de07b-1598-4e1c-ae40-dbfb75e6fd8b"
      },
      "outputs": [
        {
          "data": {
            "image/png": "[encoded data removed]",
            "text/plain": [
              "<Figure size 1500x700 with 2 Axes>"
            ]
          },
          "metadata": {},
          "output_type": "display_data"
        },
        {
          "name": "stdout",
          "output_type": "stream",
          "text": [
            "CPU times: user 1.91 s, sys: 157 ms, total: 2.07 s\n",
            "Wall time: 1.91 s\n"
          ]
        }
      ],
      "source": [
        "%%time\n",
        "cm = confusion_matrix(y_val, pred)\n",
        "# print(cm)\n",
        "\n",
        "fig, ax = plt.subplots(figsize=(15,7))\n",
        "cm_matrix = pd.DataFrame(data=cm, columns=map(str.capitalize, category_map.keys()), index=map(str.capitalize, category_map.keys()))\n",
        "sns.heatmap(cm_matrix, annot=True, fmt='d', cmap='YlGnBu', ax=ax)\n",
        "plt.show()"
      ]
    },
    {
      "cell_type": "markdown",
      "metadata": {
        "id": "uk7Rsq6D4C9B"
      },
      "source": [
        "## 2.10. Hyperparameter Optimization\n",
        "\n",
        "Outra forma de melhorar os resultados obtidos é através da otimização dos hiperparâmetros.\n",
        "\n",
        "\n",
        "### 2.10.1 - NB | Naive Bayes Multinomial"
      ]
    },
    {
      "cell_type": "code",
      "execution_count": 22,
      "metadata": {
        "colab": {
          "base_uri": "https://localhost:8080/"
        },
        "id": "scStknqC4C9B",
        "outputId": "bf3c60f3-cb8e-429a-9d1b-e1eb9b060424"
      },
      "outputs": [
        {
          "name": "stdout",
          "output_type": "stream",
          "text": [
            "\u001b[1m- Naive Bayes Multinomial (NB)\u001b[0m\n",
            "Best parameters: {'alpha': 0.0001, 'fit_prior': True}\n",
            "Best score: 68.5470%\n",
            "Valid MCC: 71.2129%\n",
            "Elapsed: 5.4281 sec\n",
            "\n",
            "\u001b[1mF1:\u001b[0m 71.2129% - \u001b[1mBACC:\u001b[0m 64.2297% - \u001b[1mACC:\u001b[0m 68.5470% - \u001b[1mMCC:\u001b[0m 71.2129%\n",
            "\n",
            "CPU times: total: 516 ms\n",
            "Wall time: 5.43 s\n"
          ]
        }
      ],
      "source": [
        "%%time\n",
        "model_nb = MultinomialNB()\n",
        "param_grid = {\n",
        "    'alpha': [1e-4, 1e-3, 1e-2, 1e-1, 1e0],\n",
        "    'fit_prior': [True, False]\n",
        "}\n",
        "f1, bacc, acc, mcc = hyper_tunning(\"Naive Bayes Multinomial (NB)\", model_nb, param_grid, X_train, y_train, X_val, y_val)\n",
        "\n",
        "print(f'{color.BOLD}F1:{color.END} {f1:.4%} - {color.BOLD}BACC:{color.END} {bacc:.4%} - {color.BOLD}ACC:{color.END} {acc:.4%} - {color.BOLD}MCC:{color.END} {mcc:.4%}\\n')\n",
        "\n",
        "# i5 7600 4/4 - 5 sec\n",
        "# E3-1231v3 4/8 - 3 sec"
      ]
    },
    {
      "cell_type": "code",
      "execution_count": 26,
      "metadata": {},
      "outputs": [
        {
          "data": {
            "text/html": [
              "<style type=\"text/css\">\n",
              "</style>\n",
              "<table id=\"T_21987\">\n",
              "  <thead>\n",
              "    <tr>\n",
              "      <th class=\"blank level0\" >&nbsp;</th>\n",
              "      <th id=\"T_21987_level0_col0\" class=\"col_heading level0 col0\" >Model</th>\n",
              "      <th id=\"T_21987_level0_col1\" class=\"col_heading level0 col1\" >F1</th>\n",
              "      <th id=\"T_21987_level0_col2\" class=\"col_heading level0 col2\" >BACC</th>\n",
              "      <th id=\"T_21987_level0_col3\" class=\"col_heading level0 col3\" >ACC</th>\n",
              "      <th id=\"T_21987_level0_col4\" class=\"col_heading level0 col4\" >MCC</th>\n",
              "      <th id=\"T_21987_level0_col5\" class=\"col_heading level0 col5\" >Total Time</th>\n",
              "      <th id=\"T_21987_level0_col6\" class=\"col_heading level0 col6\" >Time/F1</th>\n",
              "    </tr>\n",
              "  </thead>\n",
              "  <tbody>\n",
              "    <tr>\n",
              "      <th id=\"T_21987_level0_row0\" class=\"row_heading level0 row0\" >1</th>\n",
              "      <td id=\"T_21987_row0_col0\" class=\"data row0 col0\" >NB</td>\n",
              "      <td id=\"T_21987_row0_col1\" class=\"data row0 col1\" >71.0463%</td>\n",
              "      <td id=\"T_21987_row0_col2\" class=\"data row0 col2\" >63.4310%</td>\n",
              "      <td id=\"T_21987_row0_col3\" class=\"data row0 col3\" >71.0463%</td>\n",
              "      <td id=\"T_21987_row0_col4\" class=\"data row0 col4\" >0.679315</td>\n",
              "      <td id=\"T_21987_row0_col5\" class=\"data row0 col5\" >0.1759 sec</td>\n",
              "      <td id=\"T_21987_row0_col6\" class=\"data row0 col6\" >4.039966</td>\n",
              "    </tr>\n",
              "  </tbody>\n",
              "</table>\n"
            ],
            "text/plain": [
              "<pandas.io.formats.style.Styler at 0x7f7442cb37c0>"
            ]
          },
          "execution_count": 26,
          "metadata": {},
          "output_type": "execute_result"
        }
      ],
      "source": [
        "# Prior results\n",
        "mask = df_stl.Model == \"NB\"\n",
        "df_stl.loc[mask].style.format({\"F1\": \"{:.4%}\", \"BACC\": \"{:.4%}\", \"ACC\": \"{:.4%}\", \"MCC\": \"{:.4%}\", \"Total Time\": \"{:.4f} sec\"})"
      ]
    },
    {
      "cell_type": "markdown",
      "metadata": {
        "id": "PXq_Z3Qtq0O-"
      },
      "source": [
        "### 2.10.2 - SGD | Linear models with stochastic gradient descent (SGD)"
      ]
    },
    {
      "cell_type": "code",
      "execution_count": 27,
      "metadata": {
        "colab": {
          "base_uri": "https://localhost:8080/"
        },
        "id": "Ro3lCJo8ZqRp",
        "outputId": "d229cb3a-ef09-4a26-ad79-9d17fc29e64f"
      },
      "outputs": [
        {
          "name": "stdout",
          "output_type": "stream",
          "text": [
            "\u001b[1m- Linear models with stochastic gradient descent (SGD)\u001b[0m\n",
            "Best parameters: {'alpha': 0.0001, 'loss': 'hinge', 'max_iter': 100, 'penalty': 'l2'}\n",
            "Best score: 74.3800%\n",
            "Valid MCC: 76.6192%\n",
            "Elapsed: 178.0810 sec\n",
            "\n",
            "\u001b[1mF1:\u001b[0m 76.6192% - \u001b[1mBACC:\u001b[0m 78.8836% - \u001b[1mACC:\u001b[0m 74.3800% - \u001b[1mMCC:\u001b[0m 76.6192%\n",
            "\n",
            "CPU times: user 10.5 s, sys: 451 ms, total: 11 s\n",
            "Wall time: 2min 58s\n"
          ]
        }
      ],
      "source": [
        "%%time\n",
        "model_sgd = SGDClassifier(random_state=seed, n_jobs=-1, class_weight='balanced')\n",
        "param_grid = {\n",
        "    \"loss\": ['hinge', 'log_loss', 'perceptron'],\n",
        "    \"alpha\": [1e-4, 1e-3, 1e2],\n",
        "    \"max_iter\": [100, 500, 1000],\n",
        "    \"penalty\": ['l2', 'l1']\n",
        "    }\n",
        "f1, bacc, acc, mcc = hyper_tunning(\"Linear models with stochastic gradient descent (SGD)\", model_sgd, param_grid, X_train, y_train, X_val, y_val)\n",
        "\n",
        "print(f'{color.BOLD}F1:{color.END} {f1:.4%} - {color.BOLD}BACC:{color.END} {bacc:.4%} - {color.BOLD}ACC:{color.END} {acc:.4%} - {color.BOLD}MCC:{color.END} {mcc:.4%}\\n')\n",
        "\n",
        "# i5 7600 4/4 - 5 min 54 sec\n",
        "# E3-1231v3 4/8 - 2 min 58 sec"
      ]
    },
    {
      "cell_type": "code",
      "execution_count": 28,
      "metadata": {},
      "outputs": [
        {
          "data": {
            "text/html": [
              "<style type=\"text/css\">\n",
              "</style>\n",
              "<table id=\"T_d4fea\">\n",
              "  <thead>\n",
              "    <tr>\n",
              "      <th class=\"blank level0\" >&nbsp;</th>\n",
              "      <th id=\"T_d4fea_level0_col0\" class=\"col_heading level0 col0\" >Model</th>\n",
              "      <th id=\"T_d4fea_level0_col1\" class=\"col_heading level0 col1\" >F1</th>\n",
              "      <th id=\"T_d4fea_level0_col2\" class=\"col_heading level0 col2\" >BACC</th>\n",
              "      <th id=\"T_d4fea_level0_col3\" class=\"col_heading level0 col3\" >ACC</th>\n",
              "      <th id=\"T_d4fea_level0_col4\" class=\"col_heading level0 col4\" >MCC</th>\n",
              "      <th id=\"T_d4fea_level0_col5\" class=\"col_heading level0 col5\" >Total Time</th>\n",
              "      <th id=\"T_d4fea_level0_col6\" class=\"col_heading level0 col6\" >Time/F1</th>\n",
              "    </tr>\n",
              "  </thead>\n",
              "  <tbody>\n",
              "    <tr>\n",
              "      <th id=\"T_d4fea_level0_row0\" class=\"row_heading level0 row0\" >2</th>\n",
              "      <td id=\"T_d4fea_row0_col0\" class=\"data row0 col0\" >SGD</td>\n",
              "      <td id=\"T_d4fea_row0_col1\" class=\"data row0 col1\" >76.4995%</td>\n",
              "      <td id=\"T_d4fea_row0_col2\" class=\"data row0 col2\" >78.3122%</td>\n",
              "      <td id=\"T_d4fea_row0_col3\" class=\"data row0 col3\" >76.4995%</td>\n",
              "      <td id=\"T_d4fea_row0_col4\" class=\"data row0 col4\" >0.742078</td>\n",
              "      <td id=\"T_d4fea_row0_col5\" class=\"data row0 col5\" >1.3265 sec</td>\n",
              "      <td id=\"T_d4fea_row0_col6\" class=\"data row0 col6\" >0.576688</td>\n",
              "    </tr>\n",
              "  </tbody>\n",
              "</table>\n"
            ],
            "text/plain": [
              "<pandas.io.formats.style.Styler at 0x7f744c56e770>"
            ]
          },
          "execution_count": 28,
          "metadata": {},
          "output_type": "execute_result"
        }
      ],
      "source": [
        "# Prior results\n",
        "mask = df_stl.Model == \"SGD\"\n",
        "df_stl.loc[mask].style.format({\"F1\": \"{:.4%}\", \"BACC\": \"{:.4%}\", \"ACC\": \"{:.4%}\", \"MCC\": \"{:.4%}\", \"Total Time\": \"{:.4f} sec\"})"
      ]
    },
    {
      "cell_type": "markdown",
      "metadata": {
        "id": "US00JRKtq5VI"
      },
      "source": [
        "### 2.10.3 - LSVC | Linear Support Vector Classification"
      ]
    },
    {
      "cell_type": "code",
      "execution_count": 29,
      "metadata": {
        "colab": {
          "base_uri": "https://localhost:8080/"
        },
        "id": "e70LM3LXZsjC",
        "outputId": "11fba770-3fec-414b-f0b9-7c56aa678a9b"
      },
      "outputs": [
        {
          "name": "stderr",
          "output_type": "stream",
          "text": [
            "/home/ivan/.local/lib/python3.10/site-packages/sklearn/svm/_base.py:1242: ConvergenceWarning: Liblinear failed to converge, increase the number of iterations.\n",
            "  warnings.warn(\n",
            "/home/ivan/.local/lib/python3.10/site-packages/sklearn/svm/_base.py:1242: ConvergenceWarning: Liblinear failed to converge, increase the number of iterations.\n",
            "  warnings.warn(\n",
            "/home/ivan/.local/lib/python3.10/site-packages/sklearn/svm/_base.py:1242: ConvergenceWarning: Liblinear failed to converge, increase the number of iterations.\n",
            "  warnings.warn(\n",
            "/home/ivan/.local/lib/python3.10/site-packages/sklearn/svm/_base.py:1242: ConvergenceWarning: Liblinear failed to converge, increase the number of iterations.\n",
            "  warnings.warn(\n",
            "/home/ivan/.local/lib/python3.10/site-packages/sklearn/svm/_base.py:1242: ConvergenceWarning: Liblinear failed to converge, increase the number of iterations.\n",
            "  warnings.warn(\n",
            "/home/ivan/.local/lib/python3.10/site-packages/sklearn/svm/_base.py:1242: ConvergenceWarning: Liblinear failed to converge, increase the number of iterations.\n",
            "  warnings.warn(\n",
            "/home/ivan/.local/lib/python3.10/site-packages/sklearn/svm/_base.py:1242: ConvergenceWarning: Liblinear failed to converge, increase the number of iterations.\n",
            "  warnings.warn(\n",
            "/home/ivan/.local/lib/python3.10/site-packages/sklearn/svm/_base.py:1242: ConvergenceWarning: Liblinear failed to converge, increase the number of iterations.\n",
            "  warnings.warn(\n",
            "/home/ivan/.local/lib/python3.10/site-packages/sklearn/svm/_base.py:1242: ConvergenceWarning: Liblinear failed to converge, increase the number of iterations.\n",
            "  warnings.warn(\n",
            "/home/ivan/.local/lib/python3.10/site-packages/sklearn/svm/_base.py:1242: ConvergenceWarning: Liblinear failed to converge, increase the number of iterations.\n",
            "  warnings.warn(\n",
            "/home/ivan/.local/lib/python3.10/site-packages/sklearn/svm/_base.py:1242: ConvergenceWarning: Liblinear failed to converge, increase the number of iterations.\n",
            "  warnings.warn(\n",
            "/home/ivan/.local/lib/python3.10/site-packages/sklearn/svm/_base.py:1242: ConvergenceWarning: Liblinear failed to converge, increase the number of iterations.\n",
            "  warnings.warn(\n",
            "/home/ivan/.local/lib/python3.10/site-packages/sklearn/svm/_base.py:1242: ConvergenceWarning: Liblinear failed to converge, increase the number of iterations.\n",
            "  warnings.warn(\n",
            "/home/ivan/.local/lib/python3.10/site-packages/sklearn/svm/_base.py:1242: ConvergenceWarning: Liblinear failed to converge, increase the number of iterations.\n",
            "  warnings.warn(\n",
            "/home/ivan/.local/lib/python3.10/site-packages/sklearn/svm/_base.py:1242: ConvergenceWarning: Liblinear failed to converge, increase the number of iterations.\n",
            "  warnings.warn(\n",
            "/home/ivan/.local/lib/python3.10/site-packages/sklearn/svm/_base.py:1242: ConvergenceWarning: Liblinear failed to converge, increase the number of iterations.\n",
            "  warnings.warn(\n",
            "/home/ivan/.local/lib/python3.10/site-packages/sklearn/svm/_base.py:1242: ConvergenceWarning: Liblinear failed to converge, increase the number of iterations.\n",
            "  warnings.warn(\n",
            "/home/ivan/.local/lib/python3.10/site-packages/sklearn/svm/_base.py:1242: ConvergenceWarning: Liblinear failed to converge, increase the number of iterations.\n",
            "  warnings.warn(\n",
            "/home/ivan/.local/lib/python3.10/site-packages/sklearn/svm/_base.py:1242: ConvergenceWarning: Liblinear failed to converge, increase the number of iterations.\n",
            "  warnings.warn(\n",
            "/home/ivan/.local/lib/python3.10/site-packages/sklearn/svm/_base.py:1242: ConvergenceWarning: Liblinear failed to converge, increase the number of iterations.\n",
            "  warnings.warn(\n",
            "/home/ivan/.local/lib/python3.10/site-packages/sklearn/svm/_base.py:1242: ConvergenceWarning: Liblinear failed to converge, increase the number of iterations.\n",
            "  warnings.warn(\n",
            "/home/ivan/.local/lib/python3.10/site-packages/sklearn/svm/_base.py:1242: ConvergenceWarning: Liblinear failed to converge, increase the number of iterations.\n",
            "  warnings.warn(\n",
            "/home/ivan/.local/lib/python3.10/site-packages/sklearn/svm/_base.py:1242: ConvergenceWarning: Liblinear failed to converge, increase the number of iterations.\n",
            "  warnings.warn(\n",
            "/home/ivan/.local/lib/python3.10/site-packages/sklearn/svm/_base.py:1242: ConvergenceWarning: Liblinear failed to converge, increase the number of iterations.\n",
            "  warnings.warn(\n",
            "/home/ivan/.local/lib/python3.10/site-packages/sklearn/svm/_base.py:1242: ConvergenceWarning: Liblinear failed to converge, increase the number of iterations.\n",
            "  warnings.warn(\n",
            "/home/ivan/.local/lib/python3.10/site-packages/sklearn/svm/_base.py:1242: ConvergenceWarning: Liblinear failed to converge, increase the number of iterations.\n",
            "  warnings.warn(\n",
            "/home/ivan/.local/lib/python3.10/site-packages/sklearn/svm/_base.py:1242: ConvergenceWarning: Liblinear failed to converge, increase the number of iterations.\n",
            "  warnings.warn(\n",
            "/home/ivan/.local/lib/python3.10/site-packages/sklearn/svm/_base.py:1242: ConvergenceWarning: Liblinear failed to converge, increase the number of iterations.\n",
            "  warnings.warn(\n",
            "/home/ivan/.local/lib/python3.10/site-packages/sklearn/svm/_base.py:1242: ConvergenceWarning: Liblinear failed to converge, increase the number of iterations.\n",
            "  warnings.warn(\n",
            "/home/ivan/.local/lib/python3.10/site-packages/sklearn/svm/_base.py:1242: ConvergenceWarning: Liblinear failed to converge, increase the number of iterations.\n",
            "  warnings.warn(\n",
            "/home/ivan/.local/lib/python3.10/site-packages/sklearn/svm/_base.py:1242: ConvergenceWarning: Liblinear failed to converge, increase the number of iterations.\n",
            "  warnings.warn(\n",
            "/home/ivan/.local/lib/python3.10/site-packages/sklearn/svm/_base.py:1242: ConvergenceWarning: Liblinear failed to converge, increase the number of iterations.\n",
            "  warnings.warn(\n",
            "/home/ivan/.local/lib/python3.10/site-packages/sklearn/svm/_base.py:1242: ConvergenceWarning: Liblinear failed to converge, increase the number of iterations.\n",
            "  warnings.warn(\n",
            "/home/ivan/.local/lib/python3.10/site-packages/sklearn/svm/_base.py:1242: ConvergenceWarning: Liblinear failed to converge, increase the number of iterations.\n",
            "  warnings.warn(\n",
            "/home/ivan/.local/lib/python3.10/site-packages/sklearn/svm/_base.py:1242: ConvergenceWarning: Liblinear failed to converge, increase the number of iterations.\n",
            "  warnings.warn(\n",
            "/home/ivan/.local/lib/python3.10/site-packages/sklearn/svm/_base.py:1242: ConvergenceWarning: Liblinear failed to converge, increase the number of iterations.\n",
            "  warnings.warn(\n",
            "/home/ivan/.local/lib/python3.10/site-packages/sklearn/svm/_base.py:1242: ConvergenceWarning: Liblinear failed to converge, increase the number of iterations.\n",
            "  warnings.warn(\n"
          ]
        },
        {
          "name": "stdout",
          "output_type": "stream",
          "text": [
            "\u001b[1m- Linear Support Vector Classification (SVC)\u001b[0m\n",
            "Best parameters: {'dual': 'auto', 'loss': 'squared_hinge', 'max_iter': 1000, 'multi_class': 'ovr', 'penalty': 'l2'}\n",
            "Best score: 78.1905%\n",
            "Valid MCC: 80.3656%\n",
            "Elapsed: 1370.7791 sec\n",
            "\n",
            "\u001b[1mF1:\u001b[0m 80.3656% - \u001b[1mBACC:\u001b[0m 80.0519% - \u001b[1mACC:\u001b[0m 78.1905% - \u001b[1mMCC:\u001b[0m 80.3656%\n",
            "\n",
            "CPU times: user 42.9 s, sys: 3.19 s, total: 46.1 s\n",
            "Wall time: 22min 50s\n"
          ]
        }
      ],
      "source": [
        "%%time\n",
        "model_lsvc = LinearSVC(random_state=seed, class_weight='balanced')\n",
        "param_grid = {\n",
        "    \"loss\": ['hinge', 'squared_hinge'],\n",
        "    \"dual\": [\"auto\"],\n",
        "    \"multi_class\": [\"ovr\", \"crammer_singer\"],\n",
        "    \"max_iter\": [1000, 5000, 1000000],\n",
        "    \"penalty\": ['l2', 'l1']\n",
        "}\n",
        "f1, bacc, acc, mcc = hyper_tunning(\"Linear Support Vector Classification (SVC)\", model_lsvc, param_grid, X_train, y_train, X_val, y_val)\n",
        "\n",
        "print(f'{color.BOLD}F1:{color.END} {f1:.4%} - {color.BOLD}BACC:{color.END} {bacc:.4%} - {color.BOLD}ACC:{color.END} {acc:.4%} - {color.BOLD}MCC:{color.END} {mcc:.4%}\\n')\n",
        "\n",
        "# i5 7600 4/4 - 41 min 55 sec\n",
        "# E3-1231v3 4/8 - 22 min 50 sec"
      ]
    },
    {
      "cell_type": "code",
      "execution_count": 30,
      "metadata": {},
      "outputs": [
        {
          "data": {
            "text/html": [
              "<style type=\"text/css\">\n",
              "</style>\n",
              "<table id=\"T_a1f2c\">\n",
              "  <thead>\n",
              "    <tr>\n",
              "      <th class=\"blank level0\" >&nbsp;</th>\n",
              "      <th id=\"T_a1f2c_level0_col0\" class=\"col_heading level0 col0\" >Model</th>\n",
              "      <th id=\"T_a1f2c_level0_col1\" class=\"col_heading level0 col1\" >F1</th>\n",
              "      <th id=\"T_a1f2c_level0_col2\" class=\"col_heading level0 col2\" >BACC</th>\n",
              "      <th id=\"T_a1f2c_level0_col3\" class=\"col_heading level0 col3\" >ACC</th>\n",
              "      <th id=\"T_a1f2c_level0_col4\" class=\"col_heading level0 col4\" >MCC</th>\n",
              "      <th id=\"T_a1f2c_level0_col5\" class=\"col_heading level0 col5\" >Total Time</th>\n",
              "      <th id=\"T_a1f2c_level0_col6\" class=\"col_heading level0 col6\" >Time/F1</th>\n",
              "    </tr>\n",
              "  </thead>\n",
              "  <tbody>\n",
              "    <tr>\n",
              "      <th id=\"T_a1f2c_level0_row0\" class=\"row_heading level0 row0\" >2</th>\n",
              "      <td id=\"T_a1f2c_row0_col0\" class=\"data row0 col0\" >SGD</td>\n",
              "      <td id=\"T_a1f2c_row0_col1\" class=\"data row0 col1\" >76.4995%</td>\n",
              "      <td id=\"T_a1f2c_row0_col2\" class=\"data row0 col2\" >78.3122%</td>\n",
              "      <td id=\"T_a1f2c_row0_col3\" class=\"data row0 col3\" >76.4995%</td>\n",
              "      <td id=\"T_a1f2c_row0_col4\" class=\"data row0 col4\" >0.742078</td>\n",
              "      <td id=\"T_a1f2c_row0_col5\" class=\"data row0 col5\" >1.3265 sec</td>\n",
              "      <td id=\"T_a1f2c_row0_col6\" class=\"data row0 col6\" >0.576688</td>\n",
              "    </tr>\n",
              "  </tbody>\n",
              "</table>\n"
            ],
            "text/plain": [
              "<pandas.io.formats.style.Styler at 0x7f73f46d7ca0>"
            ]
          },
          "execution_count": 30,
          "metadata": {},
          "output_type": "execute_result"
        }
      ],
      "source": [
        "# Prior results\n",
        "mask = df_stl.Model == \"SGD\"\n",
        "df_stl.loc[mask].style.format({\"F1\": \"{:.4%}\", \"BACC\": \"{:.4%}\", \"ACC\": \"{:.4%}\", \"MCC\": \"{:.4%}\", \"Total Time\": \"{:.4f} sec\"})"
      ]
    },
    {
      "cell_type": "markdown",
      "metadata": {
        "id": "wDxttZfFrHcI"
      },
      "source": [
        "### 2.10.4 - LGBM | LightGBM classifier."
      ]
    },
    {
      "cell_type": "code",
      "execution_count": 27,
      "metadata": {
        "id": "cdKdUqBWZwTf"
      },
      "outputs": [
        {
          "name": "stdout",
          "output_type": "stream",
          "text": [
            "[LightGBM] [Warning] boosting_type is set=gbdt, boosting_type= will be ignored. Current value: boosting_type=gbdt\n",
            "[LightGBM] [Warning] Unknown parameter: dart\n",
            "[LightGBM] [Warning] Unknown parameter: 50\n",
            "[LightGBM] [Warning] num_iterations is set=100, n_estimators= will be ignored. Current value: num_iterations=100\n",
            "[LightGBM] [Warning] boosting_type is set=gbdt, boosting_type= will be ignored. Current value: boosting_type=gbdt\n",
            "[LightGBM] [Warning] Unknown parameter: dart\n",
            "[LightGBM] [Warning] Unknown parameter: 50\n",
            "[LightGBM] [Warning] num_iterations is set=100, n_estimators= will be ignored. Current value: num_iterations=100\n",
            "[LightGBM] [Warning] Auto-choosing col-wise multi-threading, the overhead of testing was 0.699309 seconds.\n",
            "You can set `force_col_wise=true` to remove the overhead.\n",
            "[LightGBM] [Info] Total Bins 509928\n",
            "[LightGBM] [Info] Number of data points in the train set: 133030, number of used features: 2000\n",
            "[LightGBM] [Info] Start training from score -2.708050\n",
            "[LightGBM] [Info] Start training from score -2.708050\n",
            "[LightGBM] [Info] Start training from score -2.708050\n",
            "[LightGBM] [Info] Start training from score -2.708050\n",
            "[LightGBM] [Info] Start training from score -2.708050\n",
            "[LightGBM] [Info] Start training from score -2.708050\n",
            "[LightGBM] [Info] Start training from score -2.708050\n",
            "[LightGBM] [Info] Start training from score -2.708050\n",
            "[LightGBM] [Info] Start training from score -2.708050\n",
            "[LightGBM] [Info] Start training from score -2.708050\n",
            "[LightGBM] [Info] Start training from score -2.708050\n",
            "[LightGBM] [Info] Start training from score -2.708050\n",
            "[LightGBM] [Info] Start training from score -2.708050\n",
            "[LightGBM] [Info] Start training from score -2.708050\n",
            "[LightGBM] [Info] Start training from score -2.708050\n",
            "[LightGBM] [Warning] boosting_type is set=gbdt, boosting_type= will be ignored. Current value: boosting_type=gbdt\n",
            "[LightGBM] [Warning] Unknown parameter: dart\n",
            "[LightGBM] [Warning] Unknown parameter: 50\n",
            "[LightGBM] [Warning] boosting_type is set=gbdt, boosting_type= will be ignored. Current value: boosting_type=gbdt\n",
            "[LightGBM] [Warning] Unknown parameter: dart\n",
            "[LightGBM] [Warning] Unknown parameter: 50\n",
            "\u001b[1m- Logistic Regression (LR)\u001b[0m\n",
            "Best parameters: {'boosting_type ': 'dart', 'n_estimators ': 50, 'num_leaves': 30}\n",
            "Best score: 80.6188%\n",
            "Valid MCC: 82.6267%\n",
            "Elapsed: 10745.3173 sec\n",
            "\n",
            "\u001b[1mF1:\u001b[0m 82.6267% - \u001b[1mBACC:\u001b[0m 83.1103% - \u001b[1mACC:\u001b[0m 80.6188% - \u001b[1mMCC:\u001b[0m 82.6267%\n",
            "\n",
            "CPU times: total: 24min 35s\n",
            "Wall time: 2h 59min 5s\n"
          ]
        }
      ],
      "source": [
        "%%time\n",
        "model_lr = LGBMClassifier(random_state=seed, n_jobs=-1, class_weight='balanced')\n",
        "param_grid = {\n",
        "    \"boosting_type \": ['dart', 'gbdt', 'rf'],\n",
        "    \"num_leaves\": [20, 30],# 50, 100, 200],\n",
        "    \"n_estimators \": [50, 100],# 150],\n",
        "}\n",
        "f1, bacc, acc, mcc = hyper_tunning(\"Logistic Regression (LR)\", model_lr, param_grid, X_train, y_train, X_val, y_val)\n",
        "\n",
        "print(f'{color.BOLD}F1:{color.END} {f1:.4%} - {color.BOLD}BACC:{color.END} {bacc:.4%} - {color.BOLD}ACC:{color.END} {acc:.4%} - {color.BOLD}MCC:{color.END} {mcc:.4%}\\n')\n",
        "\n",
        "# i5 7600 4/4 -  min  sec\n",
        "# E3-1231v3 4/8 -  min  sec"
      ]
    },
    {
      "cell_type": "code",
      "execution_count": 29,
      "metadata": {},
      "outputs": [
        {
          "name": "stdout",
          "output_type": "stream",
          "text": [
            "[LightGBM] [Warning] boosting_type is set=gbdt, boosting_type= will be ignored. Current value: boosting_type=gbdt\n",
            "[LightGBM] [Warning] Unknown parameter: 20\n",
            "[LightGBM] [Warning] Unknown parameter: dart\n",
            "[LightGBM] [Warning] num_iterations is set=100, n_estimators= will be ignored. Current value: num_iterations=100\n",
            "[LightGBM] [Warning] boosting_type is set=gbdt, boosting_type= will be ignored. Current value: boosting_type=gbdt\n",
            "[LightGBM] [Warning] Unknown parameter: 20\n",
            "[LightGBM] [Warning] Unknown parameter: dart\n",
            "[LightGBM] [Warning] num_iterations is set=100, n_estimators= will be ignored. Current value: num_iterations=100\n",
            "[LightGBM] [Warning] Auto-choosing col-wise multi-threading, the overhead of testing was 0.886845 seconds.\n",
            "You can set `force_col_wise=true` to remove the overhead.\n",
            "[LightGBM] [Info] Total Bins 509928\n",
            "[LightGBM] [Info] Number of data points in the train set: 133030, number of used features: 2000\n",
            "[LightGBM] [Info] Start training from score -2.708050\n",
            "[LightGBM] [Info] Start training from score -2.708050\n",
            "[LightGBM] [Info] Start training from score -2.708050\n",
            "[LightGBM] [Info] Start training from score -2.708050\n",
            "[LightGBM] [Info] Start training from score -2.708050\n",
            "[LightGBM] [Info] Start training from score -2.708050\n",
            "[LightGBM] [Info] Start training from score -2.708050\n",
            "[LightGBM] [Info] Start training from score -2.708050\n",
            "[LightGBM] [Info] Start training from score -2.708050\n",
            "[LightGBM] [Info] Start training from score -2.708050\n",
            "[LightGBM] [Info] Start training from score -2.708050\n",
            "[LightGBM] [Info] Start training from score -2.708050\n",
            "[LightGBM] [Info] Start training from score -2.708050\n",
            "[LightGBM] [Info] Start training from score -2.708050\n",
            "[LightGBM] [Info] Start training from score -2.708050\n",
            "[LightGBM] [Warning] boosting_type is set=gbdt, boosting_type= will be ignored. Current value: boosting_type=gbdt\n",
            "[LightGBM] [Warning] Unknown parameter: 20\n",
            "[LightGBM] [Warning] Unknown parameter: dart\n",
            "[LightGBM] [Warning] boosting_type is set=gbdt, boosting_type= will be ignored. Current value: boosting_type=gbdt\n",
            "[LightGBM] [Warning] Unknown parameter: 20\n",
            "[LightGBM] [Warning] Unknown parameter: dart\n",
            "\u001b[1m- Logistic Regression (LR)\u001b[0m\n",
            "Best parameters: {'boosting_type ': 'dart', 'n_estimators ': 20, 'num_leaves': 50}\n",
            "Best score: 81.5926%\n",
            "Valid MCC: 83.7513%\n",
            "Elapsed: 4895.3597 sec\n",
            "\n",
            "\u001b[1mF1:\u001b[0m 83.7513% - \u001b[1mBACC:\u001b[0m 82.8179% - \u001b[1mACC:\u001b[0m 81.5926% - \u001b[1mMCC:\u001b[0m 83.7513%\n",
            "\n",
            "CPU times: total: 32min 8s\n",
            "Wall time: 1h 21min 35s\n"
          ]
        }
      ],
      "source": [
        "%%time\n",
        "model_lr = LGBMClassifier(random_state=seed, n_jobs=-1, class_weight='balanced')\n",
        "param_grid = {\n",
        "    \"boosting_type \": ['dart'],\n",
        "    \"num_leaves\": [50 100],# 200],\n",
        "    \"n_estimators \": [20],# 100],# 150],\n",
        "}\n",
        "f1, bacc, acc, mcc = hyper_tunning(\"Logistic Regression (LR)\", model_lr, param_grid, X_train, y_train, X_val, y_val)\n",
        "\n",
        "print(f'{color.BOLD}F1:{color.END} {f1:.4%} - {color.BOLD}BACC:{color.END} {bacc:.4%} - {color.BOLD}ACC:{color.END} {acc:.4%} - {color.BOLD}MCC:{color.END} {mcc:.4%}\\n')\n",
        "\n",
        "# i5 7600 4/4 -  min  sec\n",
        "# E3-1231v3 4/8 -  min  sec"
      ]
    },
    {
      "cell_type": "code",
      "execution_count": null,
      "metadata": {},
      "outputs": [],
      "source": [
        "%%time\n",
        "model_lr = LGBMClassifier(random_state=seed, n_jobs=-1, class_weight='balanced')\n",
        "param_grid = {\n",
        "    \"boosting_type \": ['dart'],\n",
        "    \"num_leaves\": [50 100],# 200],\n",
        "    \"n_estimators \": [20],# 100],# 150],\n",
        "}\n",
        "f1, bacc, acc, mcc = hyper_tunning(\"Logistic Regression (LR)\", model_lr, param_grid, X_train, y_train, X_val, y_val)\n",
        "\n",
        "print(f'{color.BOLD}F1:{color.END} {f1:.4%} - {color.BOLD}BACC:{color.END} {bacc:.4%} - {color.BOLD}ACC:{color.END} {acc:.4%} - {color.BOLD}MCC:{color.END} {mcc:.4%}\\n')\n",
        "\n",
        "# i5 7600 4/4 -  min  sec\n",
        "# E3-1231v3 4/8 -  min  sec"
      ]
    },
    {
      "cell_type": "code",
      "execution_count": null,
      "metadata": {},
      "outputs": [
        {
          "data": {
            "text/html": [
              "<style type=\"text/css\">\n",
              "</style>\n",
              "<table id=\"T_0cebc\">\n",
              "  <thead>\n",
              "    <tr>\n",
              "      <th class=\"blank level0\" >&nbsp;</th>\n",
              "      <th id=\"T_0cebc_level0_col0\" class=\"col_heading level0 col0\" >Model</th>\n",
              "      <th id=\"T_0cebc_level0_col1\" class=\"col_heading level0 col1\" >F1</th>\n",
              "      <th id=\"T_0cebc_level0_col2\" class=\"col_heading level0 col2\" >BACC</th>\n",
              "      <th id=\"T_0cebc_level0_col3\" class=\"col_heading level0 col3\" >ACC</th>\n",
              "      <th id=\"T_0cebc_level0_col4\" class=\"col_heading level0 col4\" >MCC</th>\n",
              "      <th id=\"T_0cebc_level0_col5\" class=\"col_heading level0 col5\" >Total Time</th>\n",
              "      <th id=\"T_0cebc_level0_col6\" class=\"col_heading level0 col6\" >Time/F1</th>\n",
              "    </tr>\n",
              "  </thead>\n",
              "  <tbody>\n",
              "    <tr>\n",
              "      <th id=\"T_0cebc_level0_row0\" class=\"row_heading level0 row0\" >7</th>\n",
              "      <td id=\"T_0cebc_row0_col0\" class=\"data row0 col0\" >LGBM</td>\n",
              "      <td id=\"T_0cebc_row0_col1\" class=\"data row0 col1\" >82.7667%</td>\n",
              "      <td id=\"T_0cebc_row0_col2\" class=\"data row0 col2\" >82.3218%</td>\n",
              "      <td id=\"T_0cebc_row0_col3\" class=\"data row0 col3\" >82.7667%</td>\n",
              "      <td id=\"T_0cebc_row0_col4\" class=\"data row0 col4\" >0.808845</td>\n",
              "      <td id=\"T_0cebc_row0_col5\" class=\"data row0 col5\" >434.1281 sec</td>\n",
              "      <td id=\"T_0cebc_row0_col6\" class=\"data row0 col6\" >0.001907</td>\n",
              "    </tr>\n",
              "  </tbody>\n",
              "</table>\n"
            ],
            "text/plain": [
              "<pandas.io.formats.style.Styler at 0x2ce20604fd0>"
            ]
          },
          "execution_count": 147,
          "metadata": {},
          "output_type": "execute_result"
        }
      ],
      "source": [
        "# Prior results\n",
        "mask = df_stl.Model == \"LGBM\"\n",
        "df_stl.loc[mask].style.format({\"F1\": \"{:.4%}\", \"BACC\": \"{:.4%}\", \"ACC\": \"{:.4%}\", \"MCC\": \"{:.4%}\", \"Total Time\": \"{:.4f} sec\"})"
      ]
    },
    {
      "cell_type": "markdown",
      "metadata": {},
      "source": [
        "# Conclusão\n",
        "\n",
        "Como podemos observar ao longo do trabalho e principalmente na tabela comparativa entre os modelos, como a abaixo. A escolha do modelo de classificação depende de diversos fatores, como o tempo de treinamento, a quantidade de dados disponíveis e objetivo do projeto. Em tarefas menos críticas ou com menos recursos disponíveis podemos utilizar modelos mais simples e rápidos como o *Naive Bayes Multinomial* (NB), o Linear *Models With Stochastic Gradient Gescent* (SGD) e o *Linear Support Vector Classification* (LSVC), que dos três possui o melhor resultado. Porém em situações mais críticas e/ou com maior abundância de tempo e recursos, podemos escolher modelos mais complexos e com um resultado ligeiramente melhor que os citados anteriormente. Como o *LightGBM Classifier* (LGBM) que obteve resultado melhor e mais rápido quando comparado com o *XGBoost Classifier* (XBG) e o *Multilayer Perceptron Classifier* (MLP)."
      ]
    },
    {
      "cell_type": "code",
      "execution_count": null,
      "metadata": {},
      "outputs": [
        {
          "data": {
            "text/html": [
              "<style type=\"text/css\">\n",
              "#T_8ac13_row0_col1, #T_8ac13_row0_col2, #T_8ac13_row0_col3, #T_8ac13_row0_col4, #T_8ac13_row3_col5, #T_8ac13_row4_col5, #T_8ac13_row5_col5, #T_8ac13_row6_col5, #T_8ac13_row7_col1, #T_8ac13_row7_col2, #T_8ac13_row7_col3, #T_8ac13_row7_col4, #T_8ac13_row7_col5, #T_8ac13_row8_col5, #T_8ac13_row8_col6, #T_8ac13_row9_col5, #T_8ac13_row9_col6, #T_8ac13_row10_col1, #T_8ac13_row10_col2, #T_8ac13_row10_col3, #T_8ac13_row10_col4, #T_8ac13_row10_col5, #T_8ac13_row10_col6 {\n",
              "  color: red;\n",
              "}\n",
              "#T_8ac13_row0_col5, #T_8ac13_row0_col6, #T_8ac13_row1_col5, #T_8ac13_row1_col6, #T_8ac13_row2_col2, #T_8ac13_row2_col5, #T_8ac13_row2_col6, #T_8ac13_row3_col2, #T_8ac13_row6_col1, #T_8ac13_row6_col2, #T_8ac13_row6_col3, #T_8ac13_row6_col4, #T_8ac13_row8_col1, #T_8ac13_row8_col3, #T_8ac13_row8_col4, #T_8ac13_row9_col1, #T_8ac13_row9_col3, #T_8ac13_row9_col4 {\n",
              "  color: blue;\n",
              "}\n",
              "#T_8ac13_row1_col1, #T_8ac13_row1_col2, #T_8ac13_row1_col3, #T_8ac13_row1_col4, #T_8ac13_row2_col1, #T_8ac13_row2_col3, #T_8ac13_row2_col4, #T_8ac13_row3_col1, #T_8ac13_row3_col3, #T_8ac13_row3_col4, #T_8ac13_row3_col6, #T_8ac13_row4_col1, #T_8ac13_row4_col2, #T_8ac13_row4_col3, #T_8ac13_row4_col4, #T_8ac13_row4_col6, #T_8ac13_row5_col1, #T_8ac13_row5_col2, #T_8ac13_row5_col3, #T_8ac13_row5_col4, #T_8ac13_row5_col6, #T_8ac13_row6_col6, #T_8ac13_row7_col6, #T_8ac13_row8_col2, #T_8ac13_row9_col2 {\n",
              "  color: gray;\n",
              "}\n",
              "</style>\n",
              "<table id=\"T_8ac13\">\n",
              "  <thead>\n",
              "    <tr>\n",
              "      <th class=\"blank level0\" >&nbsp;</th>\n",
              "      <th id=\"T_8ac13_level0_col0\" class=\"col_heading level0 col0\" >Model</th>\n",
              "      <th id=\"T_8ac13_level0_col1\" class=\"col_heading level0 col1\" >F1</th>\n",
              "      <th id=\"T_8ac13_level0_col2\" class=\"col_heading level0 col2\" >BACC</th>\n",
              "      <th id=\"T_8ac13_level0_col3\" class=\"col_heading level0 col3\" >ACC</th>\n",
              "      <th id=\"T_8ac13_level0_col4\" class=\"col_heading level0 col4\" >MCC</th>\n",
              "      <th id=\"T_8ac13_level0_col5\" class=\"col_heading level0 col5\" >Total Time</th>\n",
              "      <th id=\"T_8ac13_level0_col6\" class=\"col_heading level0 col6\" >Time/F1</th>\n",
              "    </tr>\n",
              "  </thead>\n",
              "  <tbody>\n",
              "    <tr>\n",
              "      <th id=\"T_8ac13_level0_row0\" class=\"row_heading level0 row0\" >1</th>\n",
              "      <td id=\"T_8ac13_row0_col0\" class=\"data row0 col0\" >NB</td>\n",
              "      <td id=\"T_8ac13_row0_col1\" class=\"data row0 col1\" >71.0463%</td>\n",
              "      <td id=\"T_8ac13_row0_col2\" class=\"data row0 col2\" >63.4310%</td>\n",
              "      <td id=\"T_8ac13_row0_col3\" class=\"data row0 col3\" >71.0463%</td>\n",
              "      <td id=\"T_8ac13_row0_col4\" class=\"data row0 col4\" >67.9315%</td>\n",
              "      <td id=\"T_8ac13_row0_col5\" class=\"data row0 col5\" >0.1759 sec</td>\n",
              "      <td id=\"T_8ac13_row0_col6\" class=\"data row0 col6\" >4.0400</td>\n",
              "    </tr>\n",
              "    <tr>\n",
              "      <th id=\"T_8ac13_level0_row1\" class=\"row_heading level0 row1\" >2</th>\n",
              "      <td id=\"T_8ac13_row1_col0\" class=\"data row1 col0\" >SGD</td>\n",
              "      <td id=\"T_8ac13_row1_col1\" class=\"data row1 col1\" >76.4995%</td>\n",
              "      <td id=\"T_8ac13_row1_col2\" class=\"data row1 col2\" >78.3122%</td>\n",
              "      <td id=\"T_8ac13_row1_col3\" class=\"data row1 col3\" >76.4995%</td>\n",
              "      <td id=\"T_8ac13_row1_col4\" class=\"data row1 col4\" >74.2078%</td>\n",
              "      <td id=\"T_8ac13_row1_col5\" class=\"data row1 col5\" >1.3265 sec</td>\n",
              "      <td id=\"T_8ac13_row1_col6\" class=\"data row1 col6\" >0.5767</td>\n",
              "    </tr>\n",
              "    <tr>\n",
              "      <th id=\"T_8ac13_level0_row2\" class=\"row_heading level0 row2\" >3</th>\n",
              "      <td id=\"T_8ac13_row2_col0\" class=\"data row2 col0\" >LSVC</td>\n",
              "      <td id=\"T_8ac13_row2_col1\" class=\"data row2 col1\" >80.2047%</td>\n",
              "      <td id=\"T_8ac13_row2_col2\" class=\"data row2 col2\" >79.0574%</td>\n",
              "      <td id=\"T_8ac13_row2_col3\" class=\"data row2 col3\" >80.2047%</td>\n",
              "      <td id=\"T_8ac13_row2_col4\" class=\"data row2 col4\" >78.0638%</td>\n",
              "      <td id=\"T_8ac13_row2_col5\" class=\"data row2 col5\" >17.8661 sec</td>\n",
              "      <td id=\"T_8ac13_row2_col6\" class=\"data row2 col6\" >0.0449</td>\n",
              "    </tr>\n",
              "    <tr>\n",
              "      <th id=\"T_8ac13_level0_row3\" class=\"row_heading level0 row3\" >4</th>\n",
              "      <td id=\"T_8ac13_row3_col0\" class=\"data row3 col0\" >LR</td>\n",
              "      <td id=\"T_8ac13_row3_col1\" class=\"data row3 col1\" >79.2290%</td>\n",
              "      <td id=\"T_8ac13_row3_col2\" class=\"data row3 col2\" >80.3418%</td>\n",
              "      <td id=\"T_8ac13_row3_col3\" class=\"data row3 col3\" >79.2290%</td>\n",
              "      <td id=\"T_8ac13_row3_col4\" class=\"data row3 col4\" >77.0578%</td>\n",
              "      <td id=\"T_8ac13_row3_col5\" class=\"data row3 col5\" >26.6815 sec</td>\n",
              "      <td id=\"T_8ac13_row3_col6\" class=\"data row3 col6\" >0.0297</td>\n",
              "    </tr>\n",
              "    <tr>\n",
              "      <th id=\"T_8ac13_level0_row4\" class=\"row_heading level0 row4\" >5</th>\n",
              "      <td id=\"T_8ac13_row4_col0\" class=\"data row4 col0\" >Calibrated-LSVC</td>\n",
              "      <td id=\"T_8ac13_row4_col1\" class=\"data row4 col1\" >81.0487%</td>\n",
              "      <td id=\"T_8ac13_row4_col2\" class=\"data row4 col2\" >75.4381%</td>\n",
              "      <td id=\"T_8ac13_row4_col3\" class=\"data row4 col3\" >81.0487%</td>\n",
              "      <td id=\"T_8ac13_row4_col4\" class=\"data row4 col4\" >78.8893%</td>\n",
              "      <td id=\"T_8ac13_row4_col5\" class=\"data row4 col5\" >72.7646 sec</td>\n",
              "      <td id=\"T_8ac13_row4_col6\" class=\"data row4 col6\" >0.0111</td>\n",
              "    </tr>\n",
              "    <tr>\n",
              "      <th id=\"T_8ac13_level0_row5\" class=\"row_heading level0 row5\" >6</th>\n",
              "      <td id=\"T_8ac13_row5_col0\" class=\"data row5 col0\" >RF</td>\n",
              "      <td id=\"T_8ac13_row5_col1\" class=\"data row5 col1\" >78.5227%</td>\n",
              "      <td id=\"T_8ac13_row5_col2\" class=\"data row5 col2\" >73.2437%</td>\n",
              "      <td id=\"T_8ac13_row5_col3\" class=\"data row5 col3\" >78.5227%</td>\n",
              "      <td id=\"T_8ac13_row5_col4\" class=\"data row5 col4\" >76.1251%</td>\n",
              "      <td id=\"T_8ac13_row5_col5\" class=\"data row5 col5\" >305.5440 sec</td>\n",
              "      <td id=\"T_8ac13_row5_col6\" class=\"data row5 col6\" >0.0026</td>\n",
              "    </tr>\n",
              "    <tr>\n",
              "      <th id=\"T_8ac13_level0_row6\" class=\"row_heading level0 row6\" >7</th>\n",
              "      <td id=\"T_8ac13_row6_col0\" class=\"data row6 col0\" >LGBM</td>\n",
              "      <td id=\"T_8ac13_row6_col1\" class=\"data row6 col1\" >82.7667%</td>\n",
              "      <td id=\"T_8ac13_row6_col2\" class=\"data row6 col2\" >82.3218%</td>\n",
              "      <td id=\"T_8ac13_row6_col3\" class=\"data row6 col3\" >82.7667%</td>\n",
              "      <td id=\"T_8ac13_row6_col4\" class=\"data row6 col4\" >80.8845%</td>\n",
              "      <td id=\"T_8ac13_row6_col5\" class=\"data row6 col5\" >434.1281 sec</td>\n",
              "      <td id=\"T_8ac13_row6_col6\" class=\"data row6 col6\" >0.0019</td>\n",
              "    </tr>\n",
              "    <tr>\n",
              "      <th id=\"T_8ac13_level0_row7\" class=\"row_heading level0 row7\" >8</th>\n",
              "      <td id=\"T_8ac13_row7_col0\" class=\"data row7 col0\" >DT</td>\n",
              "      <td id=\"T_8ac13_row7_col1\" class=\"data row7 col1\" >60.8225%</td>\n",
              "      <td id=\"T_8ac13_row7_col2\" class=\"data row7 col2\" >59.3298%</td>\n",
              "      <td id=\"T_8ac13_row7_col3\" class=\"data row7 col3\" >60.8225%</td>\n",
              "      <td id=\"T_8ac13_row7_col4\" class=\"data row7 col4\" >56.4052%</td>\n",
              "      <td id=\"T_8ac13_row7_col5\" class=\"data row7 col5\" >373.4289 sec</td>\n",
              "      <td id=\"T_8ac13_row7_col6\" class=\"data row7 col6\" >0.0016</td>\n",
              "    </tr>\n",
              "    <tr>\n",
              "      <th id=\"T_8ac13_level0_row8\" class=\"row_heading level0 row8\" >9</th>\n",
              "      <td id=\"T_8ac13_row8_col0\" class=\"data row8 col0\" >MLP</td>\n",
              "      <td id=\"T_8ac13_row8_col1\" class=\"data row8 col1\" >81.6713%</td>\n",
              "      <td id=\"T_8ac13_row8_col2\" class=\"data row8 col2\" >76.9997%</td>\n",
              "      <td id=\"T_8ac13_row8_col3\" class=\"data row8 col3\" >81.6713%</td>\n",
              "      <td id=\"T_8ac13_row8_col4\" class=\"data row8 col4\" >79.5946%</td>\n",
              "      <td id=\"T_8ac13_row8_col5\" class=\"data row8 col5\" >630.8444 sec</td>\n",
              "      <td id=\"T_8ac13_row8_col6\" class=\"data row8 col6\" >0.0013</td>\n",
              "    </tr>\n",
              "    <tr>\n",
              "      <th id=\"T_8ac13_level0_row9\" class=\"row_heading level0 row9\" >10</th>\n",
              "      <td id=\"T_8ac13_row9_col0\" class=\"data row9 col0\" >XGB</td>\n",
              "      <td id=\"T_8ac13_row9_col1\" class=\"data row9 col1\" >82.1262%</td>\n",
              "      <td id=\"T_8ac13_row9_col2\" class=\"data row9 col2\" >76.8695%</td>\n",
              "      <td id=\"T_8ac13_row9_col3\" class=\"data row9 col3\" >82.1262%</td>\n",
              "      <td id=\"T_8ac13_row9_col4\" class=\"data row9 col4\" >80.0853%</td>\n",
              "      <td id=\"T_8ac13_row9_col5\" class=\"data row9 col5\" >1328.1116 sec</td>\n",
              "      <td id=\"T_8ac13_row9_col6\" class=\"data row9 col6\" >0.0006</td>\n",
              "    </tr>\n",
              "    <tr>\n",
              "      <th id=\"T_8ac13_level0_row10\" class=\"row_heading level0 row10\" >11</th>\n",
              "      <td id=\"T_8ac13_row10_col0\" class=\"data row10 col0\" >KNN</td>\n",
              "      <td id=\"T_8ac13_row10_col1\" class=\"data row10 col1\" >46.5581%</td>\n",
              "      <td id=\"T_8ac13_row10_col2\" class=\"data row10 col2\" >40.6389%</td>\n",
              "      <td id=\"T_8ac13_row10_col3\" class=\"data row10 col3\" >46.5581%</td>\n",
              "      <td id=\"T_8ac13_row10_col4\" class=\"data row10 col4\" >47.7669%</td>\n",
              "      <td id=\"T_8ac13_row10_col5\" class=\"data row10 col5\" >2434.0371 sec</td>\n",
              "      <td id=\"T_8ac13_row10_col6\" class=\"data row10 col6\" >0.0002</td>\n",
              "    </tr>\n",
              "  </tbody>\n",
              "</table>\n"
            ],
            "text/plain": [
              "<pandas.io.formats.style.Styler at 0x2cee90d4950>"
            ]
          },
          "execution_count": 146,
          "metadata": {},
          "output_type": "execute_result"
        }
      ],
      "source": [
        "df_stl.style.format({\"F1\": \"{:.4%}\", \"BACC\": \"{:.4%}\", \"ACC\": \"{:.4%}\",\n",
        "                     \"MCC\": \"{:.4%}\", \"Total Time\": \"{:.4f} sec\", \"Time/F1\": \"{:.4f}\"}) \\\n",
        "                        .applymap(style_score, quantile_val=quantiles_dict[\"F1\"], subset=[\"F1\"]) \\\n",
        "                        .applymap(style_score, quantile_val=quantiles_dict[\"BACC\"], subset=[\"BACC\"]) \\\n",
        "                        .applymap(style_score, quantile_val=quantiles_dict[\"ACC\"], subset=[\"ACC\"]) \\\n",
        "                        .applymap(style_score, quantile_val=quantiles_dict[\"MCC\"], subset=[\"MCC\"]) \\\n",
        "                        .applymap(style_score, quantile_val=quantiles_dict[\"Time/F1\"], subset=[\"Time/F1\"]) \\\n",
        "                        .applymap(style_score, quantile_val=quantiles_dict[\"Total Time\"], invert=True, subset=[\"Total Time\"])"
      ]
    }
  ],
  "metadata": {
    "colab": {
      "provenance": [],
      "toc_visible": true
    },
    "kernelspec": {
      "display_name": "testes",
      "language": "python",
      "name": "python3"
    },
    "language_info": {
      "codemirror_mode": {
        "name": "ipython",
        "version": 3
      },
      "file_extension": ".py",
      "mimetype": "text/x-python",
      "name": "python",
      "nbconvert_exporter": "python",
      "pygments_lexer": "ipython3",
      "version": "3.11.4"
    },
    "orig_nbformat": 4
  },
  "nbformat": 4,
  "nbformat_minor": 0
}
